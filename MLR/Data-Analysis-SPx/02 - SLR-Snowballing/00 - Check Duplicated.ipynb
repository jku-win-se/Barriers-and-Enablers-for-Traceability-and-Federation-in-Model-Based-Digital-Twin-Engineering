{
 "cells": [
  {
   "cell_type": "code",
   "execution_count": 3,
   "id": "7176c719",
   "metadata": {},
   "outputs": [
    {
     "name": "stdout",
     "output_type": "stream",
     "text": [
      "Identical or similar lines were found:\n",
      "Line 1: Title\n",
      "Line 2: Title\n",
      "Similarity: 100.00%\n",
      "\n",
      "Line 1: Architecting Digital Twins\n",
      "Line 2: Architecting Digital Twins\n",
      "Similarity: 100.00%\n",
      "\n",
      "Line 1: Cloud-Based Battery Digital Twin Middleware Using Model-Based Development\n",
      "Line 2: Cloud-Based Battery Digital Twin Middleware Using Model-Based Development\n",
      "Similarity: 100.00%\n",
      "\n"
     ]
    }
   ],
   "source": [
    "import difflib\n",
    "\n",
    "def check_similarity(file1, file2, threshold=0.7):\n",
    "    \"\"\"\n",
    "    Checks for identical or similar lines between two text files.\n",
    "\n",
    "    Args:\n",
    "        file1 (str): Path to the first .txt file.\n",
    "        file2 (str): Path to the second .txt file.\n",
    "        threshold (float): Similarity threshold to consider lines as similar (default is 0.9).\n",
    "\n",
    "    Returns:\n",
    "        list: A list of tuples (line_file1, line_file2, similarity_percentage) for similar or identical lines.\n",
    "    \"\"\"\n",
    "    similar_lines = []\n",
    "\n",
    "    # Read the files\n",
    "    with open(file1, 'r', encoding='utf-8') as f1, open(file2, 'r', encoding='utf-8') as f2:\n",
    "        lines1 = [line.strip() for line in f1.readlines()]  # Read and strip each line from file1\n",
    "        lines2 = [line.strip() for line in f2.readlines()]  # Read and strip each line from file2\n",
    "\n",
    "    # Compare each line in file1 with each line in file2\n",
    "    for line1 in lines1:\n",
    "        for line2 in lines2:\n",
    "            # Calculate the similarity ratio between the two lines\n",
    "            similarity = difflib.SequenceMatcher(None, line1, line2).ratio()\n",
    "            if similarity >= threshold:\n",
    "                # If similarity exceeds the threshold, add to the result list\n",
    "                similar_lines.append((line1, line2, similarity))\n",
    "\n",
    "    return similar_lines\n",
    "\n",
    "\n",
    "# Example usage\n",
    "file1_path = 'MLR_Selected_query.txt'  # Replace with the path to the first file\n",
    "file2_path = 'MLR_snowballing.txt'  # Replace with the path to the second file\n",
    "\n",
    "# Call the function to check for similar or identical lines\n",
    "result = check_similarity(file1_path, file2_path)\n",
    "\n",
    "# Output the results\n",
    "if result:\n",
    "    print(\"Identical or similar lines were found:\")\n",
    "    for line1, line2, similarity in result:\n",
    "        print(f\"Line 1: {line1}\\nLine 2: {line2}\\nSimilarity: {similarity:.2%}\\n\")\n",
    "else:\n",
    "    print(\"No identical or similar lines found.\")\n"
   ]
  },
  {
   "cell_type": "code",
   "execution_count": null,
   "id": "0ac722f2",
   "metadata": {},
   "outputs": [],
   "source": []
  }
 ],
 "metadata": {
  "kernelspec": {
   "display_name": "Python 3 (ipykernel)",
   "language": "python",
   "name": "python3"
  },
  "language_info": {
   "codemirror_mode": {
    "name": "ipython",
    "version": 3
   },
   "file_extension": ".py",
   "mimetype": "text/x-python",
   "name": "python",
   "nbconvert_exporter": "python",
   "pygments_lexer": "ipython3",
   "version": "3.9.19"
  }
 },
 "nbformat": 4,
 "nbformat_minor": 5
}
