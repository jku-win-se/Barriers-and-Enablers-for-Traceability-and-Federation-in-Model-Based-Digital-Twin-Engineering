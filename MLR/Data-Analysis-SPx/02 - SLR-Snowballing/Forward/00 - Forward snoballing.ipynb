{
 "cells": [
  {
   "cell_type": "code",
   "execution_count": 2,
   "id": "78857339",
   "metadata": {},
   "outputs": [
    {
     "name": "stdout",
     "output_type": "stream",
     "text": [
      "{'container_type': 'Author', 'filled': [], 'source': <AuthorSource.SEARCH_AUTHOR_SNIPPETS: 'SEARCH_AUTHOR_SNIPPETS'>, 'scholar_id': 'nh5wa-kAAAAJ', 'url_picture': 'https://scholar.google.com/citations?view_op=medium_photo&user=nh5wa-kAAAAJ', 'name': 'Vittoriano Muttillo', 'affiliation': \"University of Teramo - Center of Excellence DEWS (University of L'Aquila)\", 'email_domain': '@unite.it', 'interests': ['Electronic Design Automation', 'HW/SW Co-Design', 'Embedded Systems', 'Software Engineering', 'Design Space'], 'citedby': 330}\n"
     ]
    }
   ],
   "source": [
    "from scholarly import scholarly\n",
    "\n",
    "print(next(scholarly.search_author('Vittoriano Muttillo')))"
   ]
  },
  {
   "cell_type": "code",
   "execution_count": 9,
   "id": "53b716f0",
   "metadata": {},
   "outputs": [
    {
     "name": "stdout",
     "output_type": "stream",
     "text": [
      "{'container_type': 'Author', 'filled': ['basics', 'indices', 'counts', 'coauthors', 'publications', 'public_access'], 'source': <AuthorSource.SEARCH_AUTHOR_SNIPPETS: 'SEARCH_AUTHOR_SNIPPETS'>, 'scholar_id': 'nh5wa-kAAAAJ', 'url_picture': 'https://scholar.google.com/citations?view_op=medium_photo&user=nh5wa-kAAAAJ', 'name': 'Vittoriano Muttillo', 'affiliation': \"University of Teramo - Center of Excellence DEWS (University of L'Aquila)\", 'email_domain': '@unite.it', 'interests': ['Electronic Design Automation', 'HW/SW Co-Design', 'Embedded Systems', 'Software Engineering', 'Design Space'], 'citedby': 328, 'organization': 10842977839445245918, 'citedby5y': 274, 'hindex': 11, 'hindex5y': 10, 'i10index': 13, 'i10index5y': 11, 'cites_per_year': {2016: 6, 2017: 10, 2018: 35, 2019: 31, 2020: 60, 2021: 39, 2022: 37, 2023: 55, 2024: 51}, 'coauthors': [{'container_type': 'Author', 'filled': [], 'scholar_id': 'q2_sZiMAAAAJ', 'source': <AuthorSource.CO_AUTHORS_LIST: 'CO_AUTHORS_LIST'>, 'name': 'Luigi Pomante', 'affiliation': \"Assistant Professor (Tenured), Università degli Studi dell'Aquila - DISIM/DEWS\"}, {'container_type': 'Author', 'filled': [], 'scholar_id': '9-CXMRwAAAAJ', 'source': <AuthorSource.CO_AUTHORS_LIST: 'CO_AUTHORS_LIST'>, 'name': 'Giacomo Valente', 'affiliation': \"Assistant Professor, University of L'Aquila\"}, {'container_type': 'Author', 'filled': [], 'scholar_id': 'fUH0QBUAAAAJ', 'source': <AuthorSource.CO_AUTHORS_LIST: 'CO_AUTHORS_LIST'>, 'name': 'Fabio Federici', 'affiliation': 'Principal Engineer, Collins Aerospace'}, {'container_type': 'Author', 'filled': [], 'scholar_id': 'E8C9Uz4AAAAJ', 'source': <AuthorSource.CO_AUTHORS_LIST: 'CO_AUTHORS_LIST'>, 'name': 'Vincenzo Stoico', 'affiliation': 'PostDoctoral Researcher, S2 group, Vrije Universiteit Amsterdam'}, {'container_type': 'Author', 'filled': [], 'scholar_id': 'w5wtyMEAAAAJ', 'source': <AuthorSource.CO_AUTHORS_LIST: 'CO_AUTHORS_LIST'>, 'name': 'Romina Eramo', 'affiliation': 'Assistant Professor, Department of  Communication Science, University of Teramo'}, {'container_type': 'Author', 'filled': [], 'scholar_id': 'UNfacWkAAAAJ', 'source': <AuthorSource.CO_AUTHORS_LIST: 'CO_AUTHORS_LIST'>, 'name': 'Marco Santic', 'affiliation': \"DISIM, University of L'Aquila\"}, {'container_type': 'Author', 'filled': [], 'scholar_id': 'r1lCltMAAAAJ', 'source': <AuthorSource.CO_AUTHORS_LIST: 'CO_AUTHORS_LIST'>, 'name': 'Luca Berardinelli', 'affiliation': 'Johannes Kepler Universität Linz - Institut für Wirtschaftsinformatik Software Engineering'}, {'container_type': 'Author', 'filled': [], 'scholar_id': '-AkzGroAAAAJ', 'source': <AuthorSource.CO_AUTHORS_LIST: 'CO_AUTHORS_LIST'>, 'name': 'Paolo Giammatteo', 'affiliation': \"Ministero dell'Istruzione e del Merito\"}, {'container_type': 'Author', 'filled': [], 'scholar_id': '1h9WcVQAAAAJ', 'source': <AuthorSource.CO_AUTHORS_LIST: 'CO_AUTHORS_LIST'>, 'name': 'Andrey Sadovykh', 'affiliation': 'Softeam'}, {'container_type': 'Author', 'filled': [], 'scholar_id': 'wfT-AoEAAAAJ', 'source': <AuthorSource.CO_AUTHORS_LIST: 'CO_AUTHORS_LIST'>, 'name': 'Hugo Bruneliere', 'affiliation': 'Researcher at IMT Atlantique, LS2N (UMR CNRS 6004)'}, {'container_type': 'Author', 'filled': [], 'scholar_id': 'I-9eMoMAAAAJ', 'source': <AuthorSource.CO_AUTHORS_LIST: 'CO_AUTHORS_LIST'>, 'name': 'Antonio Cicchetti', 'affiliation': 'Associate Professor, Mälardalen University'}, {'container_type': 'Author', 'filled': [], 'scholar_id': 'UHv5DrEAAAAJ', 'source': <AuthorSource.CO_AUTHORS_LIST: 'CO_AUTHORS_LIST'>, 'name': 'Abel Gómez', 'affiliation': 'Universitat Oberta de Catalunya'}, {'container_type': 'Author', 'filled': [], 'scholar_id': 'eFELsf0AAAAJ', 'source': <AuthorSource.CO_AUTHORS_LIST: 'CO_AUTHORS_LIST'>, 'name': 'Alessandra Bagnato', 'affiliation': 'Softeam R&D'}, {'container_type': 'Author', 'filled': [], 'scholar_id': 'Vjtkja8AAAAJ', 'source': <AuthorSource.CO_AUTHORS_LIST: 'CO_AUTHORS_LIST'>, 'name': 'Mirco Muttillo', 'affiliation': 'SRON Netherlands Institute for Space Research'}, {'container_type': 'Author', 'filled': [], 'scholar_id': 'ffHUeX8AAAAJ', 'source': <AuthorSource.CO_AUTHORS_LIST: 'CO_AUTHORS_LIST'>, 'name': 'Bohuslav Křena', 'affiliation': ''}, {'container_type': 'Author', 'filled': [], 'scholar_id': 'YbSGwKwAAAAJ', 'source': <AuthorSource.CO_AUTHORS_LIST: 'CO_AUTHORS_LIST'>, 'name': 'Tomas Vojnar', 'affiliation': 'FI, Masaryk University & FIT, Brno University of Technology'}, {'container_type': 'Author', 'filled': [], 'scholar_id': '4LbAyKsAAAAJ', 'source': <AuthorSource.CO_AUTHORS_LIST: 'CO_AUTHORS_LIST'>, 'name': 'Martin Matschnig', 'affiliation': ''}, {'container_type': 'Author', 'filled': [], 'scholar_id': 'i_f7yPoAAAAJ', 'source': <AuthorSource.CO_AUTHORS_LIST: 'CO_AUTHORS_LIST'>, 'name': 'Jabier Martinez', 'affiliation': 'Tecnalia'}, {'container_type': 'Author', 'filled': [], 'scholar_id': 'czQD_SwAAAAJ', 'source': <AuthorSource.CO_AUTHORS_LIST: 'CO_AUTHORS_LIST'>, 'name': 'Filip Veljkovic', 'affiliation': 'ICEYE'}, {'container_type': 'Author', 'filled': [], 'scholar_id': 'Ul6m4JIAAAAJ', 'source': <AuthorSource.CO_AUTHORS_LIST: 'CO_AUTHORS_LIST'>, 'name': 'Thomas R Gruber', 'affiliation': 'Impact Advisor, Humanistic.ai'}, {'container_type': 'Author', 'filled': [], 'scholar_id': 'WsUZR1sAAAAJ', 'source': <AuthorSource.CO_AUTHORS_LIST: 'CO_AUTHORS_LIST'>, 'name': 'Walter Tiberti', 'affiliation': \"University of L'Aquila\"}, {'container_type': 'Author', 'filled': [], 'scholar_id': 'Wg7mlXMAAAAJ', 'source': <AuthorSource.CO_AUTHORS_LIST: 'CO_AUTHORS_LIST'>, 'name': 'Alfiero Leoni', 'affiliation': \"University of L'Aquila\"}, {'container_type': 'Author', 'filled': [], 'scholar_id': 'O6H7xncAAAAJ', 'source': <AuthorSource.CO_AUTHORS_LIST: 'CO_AUTHORS_LIST'>, 'name': 'Gianluca Barile', 'affiliation': \"Università degli studi dell'Aquila\"}, {'container_type': 'Author', 'filled': [], 'scholar_id': 'gf7sA4QAAAAJ', 'source': <AuthorSource.CO_AUTHORS_LIST: 'CO_AUTHORS_LIST'>, 'name': 'Fabio Salice', 'affiliation': 'Politecnico di Milano'}, {'container_type': 'Author', 'filled': [], 'scholar_id': 'DG-Fgs8AAAAJ', 'source': <AuthorSource.CO_AUTHORS_LIST: 'CO_AUTHORS_LIST'>, 'name': 'Emilio Incerto', 'affiliation': 'IMT School For Advanced Studies Lucca'}, {'container_type': 'Author', 'filled': [], 'scholar_id': 'E2dr5vIAAAAJ', 'source': <AuthorSource.CO_AUTHORS_LIST: 'CO_AUTHORS_LIST'>, 'name': 'Daniele Di Pompeo', 'affiliation': \"Asistant professor (RTD-a), University of L'Aquila, Italy\"}, {'container_type': 'Author', 'filled': [], 'scholar_id': 'th64NyUAAAAJ', 'source': <AuthorSource.CO_AUTHORS_LIST: 'CO_AUTHORS_LIST'>, 'name': 'Patricia Balbastre', 'affiliation': 'Instituto de Automática e Informática Industrial (AI2)-UPVLC'}, {'container_type': 'Author', 'filled': [], 'scholar_id': '60CWwWMAAAAJ', 'source': <AuthorSource.CO_AUTHORS_LIST: 'CO_AUTHORS_LIST'>, 'name': 'José Simó', 'affiliation': 'Profesor. Universitat Politècnica de València'}, {'container_type': 'Author', 'filled': [], 'scholar_id': 'NMIF48kAAAAJ', 'source': <AuthorSource.CO_AUTHORS_LIST: 'CO_AUTHORS_LIST'>, 'name': 'Alfons Crespo', 'affiliation': 'Universitat Politècnica de València'}, {'container_type': 'Author', 'filled': [], 'scholar_id': 'GP6_bRUAAAAJ', 'source': <AuthorSource.CO_AUTHORS_LIST: 'CO_AUTHORS_LIST'>, 'name': 'Paolino Di Felice', 'affiliation': \"University of L'Aquila, Italy\"}, {'container_type': 'Author', 'filled': [], 'scholar_id': 'bjuaz1sAAAAJ', 'source': <AuthorSource.CO_AUTHORS_LIST: 'CO_AUTHORS_LIST'>, 'name': 'Leonardo Pantoli', 'affiliation': \"University of L'Aquila\"}, {'container_type': 'Author', 'filled': [], 'scholar_id': 'cHgcLTAAAAAJ', 'source': <AuthorSource.CO_AUTHORS_LIST: 'CO_AUTHORS_LIST'>, 'name': 'Tullio de Rubeis, PhD', 'affiliation': \"Researcher - University of L'Aquila\"}, {'container_type': 'Author', 'filled': [], 'scholar_id': 'CwaQW8IAAAAJ', 'source': <AuthorSource.CO_AUTHORS_LIST: 'CO_AUTHORS_LIST'>, 'name': 'Hector Posadas', 'affiliation': 'University of Cantabria'}, {'container_type': 'Author', 'filled': [], 'scholar_id': 'BZtIEooAAAAJ', 'source': <AuthorSource.CO_AUTHORS_LIST: 'CO_AUTHORS_LIST'>, 'name': 'Eugenio Villar', 'affiliation': 'University of Cantabria'}, {'container_type': 'Author', 'filled': [], 'scholar_id': 'D6sgAiQAAAAJ', 'source': <AuthorSource.CO_AUTHORS_LIST: 'CO_AUTHORS_LIST'>, 'name': 'Per Erik Strandberg', 'affiliation': 'Test Lead & Industrial Doctoral Student, Westermo & Mälardalen University'}, {'container_type': 'Author', 'filled': [], 'scholar_id': '1X4xJyoAAAAJ', 'source': <AuthorSource.CO_AUTHORS_LIST: 'CO_AUTHORS_LIST'>, 'name': 'Johan Cederbladh', 'affiliation': 'PhD student at Mälardalen University'}, {'container_type': 'Author', 'filled': [], 'scholar_id': 'mVLEIJQAAAAJ', 'source': <AuthorSource.CO_AUTHORS_LIST: 'CO_AUTHORS_LIST'>, 'name': 'Riccardo Rubei', 'affiliation': \"PhD, Università Degli Studi dell'Aquila\"}, {'container_type': 'Author', 'filled': [], 'scholar_id': 'n7G7HfgAAAAJ', 'source': <AuthorSource.CO_AUTHORS_LIST: 'CO_AUTHORS_LIST'>, 'name': 'Claudio Di Sipio', 'affiliation': \"Post-doc researcher, DISIM, University of L'Aquila\"}], 'publications': [{'container_type': 'Publication', 'source': <PublicationSource.AUTHOR_PUBLICATION_ENTRY: 'AUTHOR_PUBLICATION_ENTRY'>, 'bib': {'title': 'Hardware performance sniffers for embedded systems profiling', 'pub_year': '2015', 'citation': '2015 12th International Workshop on Intelligent Solutions in Embedded …, 2015'}, 'filled': False, 'author_pub_id': 'nh5wa-kAAAAJ:roLk4NBRz8UC', 'num_citations': 28, 'citedby_url': 'https://scholar.google.com/scholar?oi=bibs&hl=en&cites=9795380728956942762', 'cites_id': ['9795380728956942762']}, {'container_type': 'Publication', 'source': <PublicationSource.AUTHOR_PUBLICATION_ENTRY: 'AUTHOR_PUBLICATION_ENTRY'>, 'bib': {'title': 'AIDOaRt: AI-augmented Automation for DevOps, a model-based framework for continuous development in Cyber–Physical Systems', 'pub_year': '2022', 'citation': 'Microprocessors and Microsystems 94, 104672, 2022'}, 'filled': False, 'author_pub_id': 'nh5wa-kAAAAJ:blknAaTinKkC', 'num_citations': 26, 'citedby_url': 'https://scholar.google.com/scholar?oi=bibs&hl=en&cites=5795580723441870159', 'cites_id': ['5795580723441870159']}, {'container_type': 'Publication', 'source': <PublicationSource.AUTHOR_PUBLICATION_ENTRY: 'AUTHOR_PUBLICATION_ENTRY'>, 'bib': {'title': 'A flexible profiling sub-system for reconfigurable logic architectures', 'pub_year': '2016', 'citation': '2016 24th Euromicro International Conference on Parallel, Distributed, and …, 2016'}, 'filled': False, 'author_pub_id': 'nh5wa-kAAAAJ:hqOjcs7Dif8C', 'num_citations': 24, 'citedby_url': 'https://scholar.google.com/scholar?oi=bibs&hl=en&cites=3475843540517602514', 'cites_id': ['3475843540517602514']}, {'container_type': 'Publication', 'source': <PublicationSource.AUTHOR_PUBLICATION_ENTRY: 'AUTHOR_PUBLICATION_ENTRY'>, 'bib': {'title': 'SystemC-based electronic system-level design space exploration environment for dedicated heterogeneous multi-processor systems', 'pub_year': '2020', 'citation': 'Microprocessors and microsystems 72, 102898, 2020'}, 'filled': False, 'author_pub_id': 'nh5wa-kAAAAJ:hFOr9nPyWt4C', 'num_citations': 22, 'citedby_url': 'https://scholar.google.com/scholar?oi=bibs&hl=en&cites=16273994271742709657', 'cites_id': ['16273994271742709657']}, {'container_type': 'Publication', 'source': <PublicationSource.AUTHOR_PUBLICATION_ENTRY: 'AUTHOR_PUBLICATION_ENTRY'>, 'bib': {'title': 'Aidoart: Ai-augmented automation for devops, a model-based framework for continuous development in cyber-physical systems', 'pub_year': '2021', 'citation': '2021 24th Euromicro Conference on Digital System Design (DSD), 303-310, 2021'}, 'filled': False, 'author_pub_id': 'nh5wa-kAAAAJ:M3NEmzRMIkIC', 'num_citations': 21, 'citedby_url': 'https://scholar.google.com/scholar?oi=bibs&hl=en&cites=14905498676216432345', 'cites_id': ['14905498676216432345']}, {'container_type': 'Publication', 'source': <PublicationSource.AUTHOR_PUBLICATION_ENTRY: 'AUTHOR_PUBLICATION_ENTRY'>, 'bib': {'title': 'The AQUAS ECSEL project aggregated quality assurance for systems: Co-engineering inside and across the product life cycle', 'pub_year': '2019', 'citation': 'Microprocessors and Microsystems 69, 54-67, 2019'}, 'filled': False, 'author_pub_id': 'nh5wa-kAAAAJ:ZeXyd9-uunAC', 'num_citations': 20, 'citedby_url': 'https://scholar.google.com/scholar?oi=bibs&hl=en&cites=2322715623000263837', 'cites_id': ['2322715623000263837']}, {'container_type': 'Publication', 'source': <PublicationSource.AUTHOR_PUBLICATION_ENTRY: 'AUTHOR_PUBLICATION_ENTRY'>, 'bib': {'title': 'SPOF—Slave Powerlink on FPGA for smart sensors and actuators interfacing for industry 4.0 applications', 'pub_year': '2019', 'citation': 'Energies 12 (9), 1633, 2019'}, 'filled': False, 'author_pub_id': 'nh5wa-kAAAAJ:L8Ckcad2t8MC', 'num_citations': 19, 'citedby_url': 'https://scholar.google.com/scholar?oi=bibs&hl=en&cites=4401810226372628522', 'cites_id': ['4401810226372628522']}, {'container_type': 'Publication', 'source': <PublicationSource.AUTHOR_PUBLICATION_ENTRY: 'AUTHOR_PUBLICATION_ENTRY'>, 'bib': {'title': 'Hepsycode-RT: A real-time extension for an ESL HW/SW co-design methodology', 'pub_year': '2018', 'citation': \"Proceedings of the Rapido'18 Workshop on Rapid Simulation and Performance …, 2018\"}, 'filled': False, 'author_pub_id': 'nh5wa-kAAAAJ:qxL8FJ1GzNcC', 'num_citations': 19, 'citedby_url': 'https://scholar.google.com/scholar?oi=bibs&hl=en&cites=7405413783426180969', 'cites_id': ['7405413783426180969']}, {'container_type': 'Publication', 'source': <PublicationSource.AUTHOR_PUBLICATION_ENTRY: 'AUTHOR_PUBLICATION_ENTRY'>, 'bib': {'title': 'Cc4cs: An off-the-shelf unifying statement-level performance metric for hw/sw technologies', 'pub_year': '2018', 'citation': 'Companion of the 2018 ACM/SPEC International Conference on Performance …, 2018'}, 'filled': False, 'author_pub_id': 'nh5wa-kAAAAJ:M3ejUd6NZC8C', 'num_citations': 15, 'citedby_url': 'https://scholar.google.com/scholar?oi=bibs&hl=en&cites=16605563421341245381', 'cites_id': ['16605563421341245381']}, {'container_type': 'Publication', 'source': <PublicationSource.AUTHOR_PUBLICATION_ENTRY: 'AUTHOR_PUBLICATION_ENTRY'>, 'bib': {'title': 'Design space exploration for mixed-criticality embedded systems considering hypervisor-based sw partitions', 'pub_year': '2018', 'citation': '2018 21st Euromicro Conference on Digital System Design (DSD), 740-744, 2018'}, 'filled': False, 'author_pub_id': 'nh5wa-kAAAAJ:dhFuZR0502QC', 'num_citations': 11, 'citedby_url': 'https://scholar.google.com/scholar?oi=bibs&hl=en&cites=9462424213834168254', 'cites_id': ['9462424213834168254']}, {'container_type': 'Publication', 'source': <PublicationSource.AUTHOR_PUBLICATION_ENTRY: 'AUTHOR_PUBLICATION_ENTRY'>, 'bib': {'title': 'An Efficient Performance-Driven Approach for HW/SW Co-Design', 'pub_year': '2017', 'citation': 'Proceedings of the 8th ACM/SPEC on International Conference on Performance …, 2017'}, 'filled': False, 'author_pub_id': 'nh5wa-kAAAAJ:ULOm3_A8WrAC', 'num_citations': 11, 'citedby_url': 'https://scholar.google.com/scholar?oi=bibs&hl=en&cites=7511219270862870548', 'cites_id': ['7511219270862870548']}, {'container_type': 'Publication', 'source': <PublicationSource.AUTHOR_PUBLICATION_ENTRY: 'AUTHOR_PUBLICATION_ENTRY'>, 'bib': {'title': 'Benchmarking analysis and characterization of hypervisors for space multicore systems', 'pub_year': '2019', 'citation': 'Journal of Aerospace Information Systems 16 (11), 500-511, 2019'}, 'filled': False, 'author_pub_id': 'nh5wa-kAAAAJ:mB3voiENLucC', 'num_citations': 10, 'citedby_url': 'https://scholar.google.com/scholar?oi=bibs&hl=en&cites=7875489301824725527', 'cites_id': ['7875489301824725527']}, {'container_type': 'Publication', 'source': <PublicationSource.AUTHOR_PUBLICATION_ENTRY: 'AUTHOR_PUBLICATION_ENTRY'>, 'bib': {'title': 'A design methodology for soft-core platforms on FPGA with SMP Linux, OpenMP support, and distributed hardware profiling system', 'pub_year': '2017', 'citation': 'EURASIP Journal on Embedded Systems 2016, 1-14, 2017'}, 'filled': False, 'author_pub_id': 'nh5wa-kAAAAJ:3fE2CSJIrl8C', 'num_citations': 10, 'citedby_url': 'https://scholar.google.com/scholar?oi=bibs&hl=en&cites=7254072714474744393', 'cites_id': ['7254072714474744393']}, {'container_type': 'Publication', 'source': <PublicationSource.AUTHOR_PUBLICATION_ENTRY: 'AUTHOR_PUBLICATION_ENTRY'>, 'bib': {'title': 'HEPSIM: An ESL HW/SW co-simulator/analysis tool for heterogeneous parallel embedded systems', 'pub_year': '2018', 'citation': '2018 7th Mediterranean Conference on Embedded Computing (MECO), 1-6, 2018'}, 'filled': False, 'author_pub_id': 'nh5wa-kAAAAJ:QIV2ME_5wuYC', 'num_citations': 9, 'citedby_url': 'https://scholar.google.com/scholar?oi=bibs&hl=en&cites=15190352845294015350', 'cites_id': ['15190352845294015350']}, {'container_type': 'Publication', 'source': <PublicationSource.AUTHOR_PUBLICATION_ENTRY: 'AUTHOR_PUBLICATION_ENTRY'>, 'bib': {'title': 'Criticality-aware Design Space Exploration for Mixed-Criticality Embedded Systems', 'pub_year': '2018', 'citation': 'Companion of the 2018 ACM/SPEC International Conference on Performance …, 2018'}, 'filled': False, 'author_pub_id': 'nh5wa-kAAAAJ:4TOpqqG69KYC', 'num_citations': 9, 'citedby_url': 'https://scholar.google.com/scholar?oi=bibs&hl=en&cites=3096242485444293103', 'cites_id': ['3096242485444293103']}, {'container_type': 'Publication', 'source': <PublicationSource.AUTHOR_PUBLICATION_ENTRY: 'AUTHOR_PUBLICATION_ENTRY'>, 'bib': {'title': 'SystemC-based Co-Simulation/Analysis for System-Level Hardware/Software Co-Design', 'pub_year': '2023', 'citation': 'Computers and Electrical Engineering 110, 108803, 2023'}, 'filled': False, 'author_pub_id': 'nh5wa-kAAAAJ:NMxIlDl6LWMC', 'num_citations': 8, 'citedby_url': 'https://scholar.google.com/scholar?oi=bibs&hl=en&cites=5498404013320492715', 'cites_id': ['5498404013320492715']}, {'container_type': 'Publication', 'source': <PublicationSource.AUTHOR_PUBLICATION_ENTRY: 'AUTHOR_PUBLICATION_ENTRY'>, 'bib': {'title': 'HW/SW co-design framework for mixed-criticality embedded systems considering Xtratum-Based SW partitions', 'pub_year': '2019', 'citation': '2019 22nd Euromicro Conference on Digital System Design (DSD), 554-561, 2019'}, 'filled': False, 'author_pub_id': 'nh5wa-kAAAAJ:TQgYirikUcIC', 'num_citations': 7, 'citedby_url': 'https://scholar.google.com/scholar?oi=bibs&hl=en&cites=8453818425476716453', 'cites_id': ['8453818425476716453']}, {'container_type': 'Publication', 'source': <PublicationSource.AUTHOR_PUBLICATION_ENTRY: 'AUTHOR_PUBLICATION_ENTRY'>, 'bib': {'title': 'Criticality-driven design space exploration for mixed-criticality heterogeneous parallel embedded systems', 'pub_year': '2018', 'citation': 'Proceedings of the 9th Workshop and 7th Workshop on Parallel Programming and …, 2018'}, 'filled': False, 'author_pub_id': 'nh5wa-kAAAAJ:_kc_bZDykSQC', 'num_citations': 7, 'citedby_url': 'https://scholar.google.com/scholar?oi=bibs&hl=en&cites=8326603822710780170', 'cites_id': ['8326603822710780170']}, {'container_type': 'Publication', 'source': <PublicationSource.AUTHOR_PUBLICATION_ENTRY: 'AUTHOR_PUBLICATION_ENTRY'>, 'bib': {'title': 'A Lightweight, Hardware-Based Support for Isolation in Mixed-Criticality Network-on-Chip Architectures', 'pub_year': '2019', 'citation': ''}, 'filled': False, 'author_pub_id': 'nh5wa-kAAAAJ:qUcmZB5y_30C', 'num_citations': 5, 'citedby_url': 'https://scholar.google.com/scholar?oi=bibs&hl=en&cites=14878184961832259331', 'cites_id': ['14878184961832259331']}, {'container_type': 'Publication', 'source': <PublicationSource.AUTHOR_PUBLICATION_ENTRY: 'AUTHOR_PUBLICATION_ENTRY'>, 'bib': {'title': 'J4CS: An early-stage statement-level metric for energy consumption of embedded SW', 'pub_year': '2019', 'citation': '2019 8th Mediterranean Conference on Embedded Computing (MECO), 1-5, 2019'}, 'filled': False, 'author_pub_id': 'nh5wa-kAAAAJ:IWHjjKOFINEC', 'num_citations': 5, 'citedby_url': 'https://scholar.google.com/scholar?oi=bibs&hl=en&cites=9895212571063616640', 'cites_id': ['9895212571063616640']}, {'container_type': 'Publication', 'source': <PublicationSource.AUTHOR_PUBLICATION_ENTRY: 'AUTHOR_PUBLICATION_ENTRY'>, 'bib': {'title': 'A proposal to expand the community of users able to process historical rainfall data by means of the today available open source libraries', 'pub_year': '2014', 'citation': 'Journal of computing and information technology 22 (2), 85-103, 2014'}, 'filled': False, 'author_pub_id': 'nh5wa-kAAAAJ:u-x6o8ySG0sC', 'num_citations': 5, 'citedby_url': 'https://scholar.google.com/scholar?oi=bibs&hl=en&cites=17699350498508038733', 'cites_id': ['17699350498508038733']}, {'container_type': 'Publication', 'source': <PublicationSource.AUTHOR_PUBLICATION_ENTRY: 'AUTHOR_PUBLICATION_ENTRY'>, 'bib': {'title': 'Statement-level timing estimation for embedded system design using machine learning techniques', 'pub_year': '2021', 'citation': 'Proceedings of the ACM/SPEC International Conference on Performance …, 2021'}, 'filled': False, 'author_pub_id': 'nh5wa-kAAAAJ:isC4tDSrTZIC', 'num_citations': 4, 'citedby_url': 'https://scholar.google.com/scholar?oi=bibs&hl=en&cites=291427706079553762', 'cites_id': ['291427706079553762']}, {'container_type': 'Publication', 'source': <PublicationSource.AUTHOR_PUBLICATION_ENTRY: 'AUTHOR_PUBLICATION_ENTRY'>, 'bib': {'title': 'An early-stage statement-level metric for energy characterization of embedded processors', 'pub_year': '2020', 'citation': 'Microprocessors and Microsystems 77, 103200, 2020'}, 'filled': False, 'author_pub_id': 'nh5wa-kAAAAJ:r0BpntZqJG4C', 'num_citations': 4, 'citedby_url': 'https://scholar.google.com/scholar?oi=bibs&hl=en&cites=13629398057008232526', 'cites_id': ['13629398057008232526']}, {'container_type': 'Publication', 'source': <PublicationSource.AUTHOR_PUBLICATION_ENTRY: 'AUTHOR_PUBLICATION_ENTRY'>, 'bib': {'title': 'An openmp parallel genetic algorithm for design space exploration of heterogeneous multi-processor embedded systems', 'pub_year': '2020', 'citation': 'Proceedings of the 11th Workshop on Parallel Programming and Run-Time …, 2020'}, 'filled': False, 'author_pub_id': 'nh5wa-kAAAAJ:j3f4tGmQtD8C', 'num_citations': 4, 'citedby_url': 'https://scholar.google.com/scholar?oi=bibs&hl=en&cites=17608866661781085094', 'cites_id': ['17608866661781085094']}, {'container_type': 'Publication', 'source': <PublicationSource.AUTHOR_PUBLICATION_ENTRY: 'AUTHOR_PUBLICATION_ENTRY'>, 'bib': {'title': 'A low cost and flexible power line communication sensory system for home automation', 'pub_year': '2020', 'citation': '2020 IEEE International Workshop on Metrology for Industry 4.0 & IoT, 191-196, 2020'}, 'filled': False, 'author_pub_id': 'nh5wa-kAAAAJ:iH-uZ7U-co4C', 'num_citations': 3, 'citedby_url': 'https://scholar.google.com/scholar?oi=bibs&hl=en&cites=4602246777184241288', 'cites_id': ['4602246777184241288']}, {'container_type': 'Publication', 'source': <PublicationSource.AUTHOR_PUBLICATION_ENTRY: 'AUTHOR_PUBLICATION_ENTRY'>, 'bib': {'title': 'CC4CS: A Unifying Statement-Level Performance Metric for HW/SW Technologies', 'pub_year': '2017', 'citation': 'Euromicro Conference on Digital Systems Design (DSD)-WIP Session, 2017'}, 'filled': False, 'author_pub_id': 'nh5wa-kAAAAJ:4DMP91E08xMC', 'num_citations': 3, 'citedby_url': 'https://scholar.google.com/scholar?oi=bibs&hl=en&cites=4578727841285297540', 'cites_id': ['4578727841285297540']}, {'container_type': 'Publication', 'source': <PublicationSource.AUTHOR_PUBLICATION_ENTRY: 'AUTHOR_PUBLICATION_ENTRY'>, 'bib': {'title': 'A Model-Based ESL HW/SW Co-Design Framework for Mixed-Criticality Systems', 'pub_year': '2016', 'citation': ''}, 'filled': False, 'author_pub_id': 'nh5wa-kAAAAJ:5nxA0vEk-isC', 'num_citations': 3, 'citedby_url': 'https://scholar.google.com/scholar?oi=bibs&hl=en&cites=9967527319829003876', 'cites_id': ['9967527319829003876']}, {'container_type': 'Publication', 'source': <PublicationSource.AUTHOR_PUBLICATION_ENTRY: 'AUTHOR_PUBLICATION_ENTRY'>, 'bib': {'title': 'Experiences and challenges from developing cyber‐physical systems in industry‐academia collaboration', 'pub_year': '2024', 'citation': 'Software: Practice and Experience 54 (6), 1193-1212, 2024'}, 'filled': False, 'author_pub_id': 'nh5wa-kAAAAJ:O3NaXMp0MMsC', 'num_citations': 2, 'citedby_url': 'https://scholar.google.com/scholar?oi=bibs&hl=en&cites=4361708484293870355', 'cites_id': ['4361708484293870355']}, {'container_type': 'Publication', 'source': <PublicationSource.AUTHOR_PUBLICATION_ENTRY: 'AUTHOR_PUBLICATION_ENTRY'>, 'bib': {'title': 'Run-time monitoring and trace analysis methodology for component-based embedded systems design flow', 'pub_year': '2020', 'citation': '2020 23rd Euromicro Conference on Digital System Design (DSD), 117-125, 2020'}, 'filled': False, 'author_pub_id': 'nh5wa-kAAAAJ:TFP_iSt0sucC', 'num_citations': 2, 'citedby_url': 'https://scholar.google.com/scholar?oi=bibs&hl=en&cites=363228970273933226', 'cites_id': ['363228970273933226']}, {'container_type': 'Publication', 'source': <PublicationSource.AUTHOR_PUBLICATION_ENTRY: 'AUTHOR_PUBLICATION_ENTRY'>, 'bib': {'title': 'Towards the design of microcontroller based embedded sensory systems with a five-parameter single diode estimation method for photovoltaic panels', 'pub_year': '2020', 'citation': '2020 IEEE International Workshop on Metrology for Industry 4.0 & IoT, 197-201, 2020'}, 'filled': False, 'author_pub_id': 'nh5wa-kAAAAJ:bEWYMUwI8FkC', 'num_citations': 2, 'citedby_url': 'https://scholar.google.com/scholar?oi=bibs&hl=en&cites=13341699116859036870', 'cites_id': ['13341699116859036870']}, {'container_type': 'Publication', 'source': <PublicationSource.AUTHOR_PUBLICATION_ENTRY: 'AUTHOR_PUBLICATION_ENTRY'>, 'bib': {'title': 'Simulation-based analysis of a hardware mechanism to support isolation in mixed-criticality network on chip', 'pub_year': '2017', 'citation': '2017 European Modelling Symposium (EMS), 185-190, 2017'}, 'filled': False, 'author_pub_id': 'nh5wa-kAAAAJ:aqlVkmm33-oC', 'num_citations': 2, 'citedby_url': 'https://scholar.google.com/scholar?oi=bibs&hl=en&cites=6024057014100114037', 'cites_id': ['6024057014100114037']}, {'container_type': 'Publication', 'source': <PublicationSource.AUTHOR_PUBLICATION_ENTRY: 'AUTHOR_PUBLICATION_ENTRY'>, 'bib': {'title': 'Model-Based HW/SW Co-Design Methodology for UAV Systems Development', 'pub_year': '2021', 'citation': '2021 10th Mediterranean Conference on Embedded Computing (MECO), 1-6, 2021'}, 'filled': False, 'author_pub_id': 'nh5wa-kAAAAJ:maZDTaKrznsC', 'num_citations': 1, 'citedby_url': 'https://scholar.google.com/scholar?oi=bibs&hl=en&cites=13160300956746879897', 'cites_id': ['13160300956746879897']}, {'container_type': 'Publication', 'source': <PublicationSource.AUTHOR_PUBLICATION_ENTRY: 'AUTHOR_PUBLICATION_ENTRY'>, 'bib': {'title': 'Tuning DSE for Heterogeneous Multi-Processor Embedded Systems by means of a Self-Equalized Weighted Sum Method', 'pub_year': '2019', 'citation': 'Proceedings of the 10th and 8th Workshop on Parallel Programming and Run …, 2019'}, 'filled': False, 'author_pub_id': 'nh5wa-kAAAAJ:7PzlFSSx8tAC', 'num_citations': 1, 'citedby_url': 'https://scholar.google.com/scholar?oi=bibs&hl=en&cites=10126703147583886426', 'cites_id': ['10126703147583886426']}, {'container_type': 'Publication', 'source': <PublicationSource.AUTHOR_PUBLICATION_ENTRY: 'AUTHOR_PUBLICATION_ENTRY'>, 'bib': {'title': 'HW/SW Co-design Methodology and Framework for Mixed-criticality and Real-time Embedded Systems', 'pub_year': '2019', 'citation': ''}, 'filled': False, 'author_pub_id': 'nh5wa-kAAAAJ:ns9cj8rnVeAC', 'num_citations': 1, 'citedby_url': 'https://scholar.google.com/scholar?oi=bibs&hl=en&cites=10528330172608948958', 'cites_id': ['10528330172608948958']}, {'container_type': 'Publication', 'source': <PublicationSource.AUTHOR_PUBLICATION_ENTRY: 'AUTHOR_PUBLICATION_ENTRY'>, 'bib': {'title': 'Injecting hypervisor-based software partitions into Design Space Exploration activities considering mixed-criticality requirements', 'pub_year': '2018', 'citation': '2018 7th Mediterranean Conference on Embedded Computing (MECO), 1-5, 2018'}, 'filled': False, 'author_pub_id': 'nh5wa-kAAAAJ:Wp0gIr-vW9MC', 'num_citations': 1, 'citedby_url': 'https://scholar.google.com/scholar?oi=bibs&hl=en&cites=16103870424733137061', 'cites_id': ['16103870424733137061']}, {'container_type': 'Publication', 'source': <PublicationSource.AUTHOR_PUBLICATION_ENTRY: 'AUTHOR_PUBLICATION_ENTRY'>, 'bib': {'title': 'A Survey of Mixed-Criticality Systems Implementation Techniques', 'pub_year': '2016', 'citation': ''}, 'filled': False, 'author_pub_id': 'nh5wa-kAAAAJ:Zph67rFs4hoC', 'num_citations': 1, 'citedby_url': 'https://scholar.google.com/scholar?oi=bibs&hl=en&cites=2846174089721685618', 'cites_id': ['2846174089721685618']}, {'container_type': 'Publication', 'source': <PublicationSource.AUTHOR_PUBLICATION_ENTRY: 'AUTHOR_PUBLICATION_ENTRY'>, 'bib': {'title': 'An Integrated ESL Methodology for Developing Embedded Parallel Systems in Mixed-Criticality Scenarios', 'pub_year': '2016', 'citation': ''}, 'filled': False, 'author_pub_id': 'nh5wa-kAAAAJ:kNdYIx-mwKoC', 'num_citations': 1, 'citedby_url': 'https://scholar.google.com/scholar?oi=bibs&hl=en&cites=8259426605603183001', 'cites_id': ['8259426605603183001']}, {'container_type': 'Publication', 'source': <PublicationSource.AUTHOR_PUBLICATION_ENTRY: 'AUTHOR_PUBLICATION_ENTRY'>, 'bib': {'title': 'Design and validation of multi-core embedded systems under time-to-prototype and high performance constraints', 'pub_year': '2016', 'citation': '2016 IEEE 2nd International Forum on Research and Technologies for Society …, 2016'}, 'filled': False, 'author_pub_id': 'nh5wa-kAAAAJ:KlAtU1dfN6UC', 'num_citations': 1, 'citedby_url': 'https://scholar.google.com/scholar?oi=bibs&hl=en&cites=8021454797076294872', 'cites_id': ['8021454797076294872']}, {'container_type': 'Publication', 'source': <PublicationSource.AUTHOR_PUBLICATION_ENTRY: 'AUTHOR_PUBLICATION_ENTRY'>, 'bib': {'title': 'Implementing mixed-critical applications on next generation multicore aerospace platforms', 'pub_year': '2016', 'citation': ''}, 'filled': False, 'author_pub_id': 'nh5wa-kAAAAJ:0EnyYjriUFMC', 'num_citations': 1, 'citedby_url': 'https://scholar.google.com/scholar?oi=bibs&hl=en&cites=14733476408111601847', 'cites_id': ['14733476408111601847']}, {'container_type': 'Publication', 'source': <PublicationSource.AUTHOR_PUBLICATION_ENTRY: 'AUTHOR_PUBLICATION_ENTRY'>, 'bib': {'title': 'Towards Synthetic Trace Generation of Modeling Operations using In-Context Learning Approach', 'pub_year': '2024', 'citation': 'Proceedings of the 39th IEEE/ACM International Conference on Automated …, 2024'}, 'filled': False, 'author_pub_id': 'nh5wa-kAAAAJ:RGFaLdJalmkC', 'num_citations': 0}, {'container_type': 'Publication', 'source': <PublicationSource.AUTHOR_PUBLICATION_ENTRY: 'AUTHOR_PUBLICATION_ENTRY'>, 'bib': {'title': 'SLIDE-x-ML: System-Level Infrastructure for Dataset E-xtraction and Machine Learning Framework for High-Level Synthesis Estimations', 'pub_year': '2024', 'citation': '42nd IEEE International Conference on Computer Design (ICCD 2024), 2024'}, 'filled': False, 'author_pub_id': 'nh5wa-kAAAAJ:NaGl4SEjCO4C', 'num_citations': 0}, {'container_type': 'Publication', 'source': <PublicationSource.AUTHOR_PUBLICATION_ENTRY: 'AUTHOR_PUBLICATION_ENTRY'>, 'bib': {'title': 'Analysis of Reconfiguration Delay in Heterogeneous Systems-on-Chip via Traffic Injection', 'pub_year': '2023', 'citation': 'IEEE Embedded Systems Letters, 2023'}, 'filled': False, 'author_pub_id': 'nh5wa-kAAAAJ:YFjsv_pBGBYC', 'num_citations': 0}, {'container_type': 'Publication', 'source': <PublicationSource.AUTHOR_PUBLICATION_ENTRY: 'AUTHOR_PUBLICATION_ENTRY'>, 'bib': {'title': 'Dall’Industria 4.0 al Turismo 4.0: Come le nuove tecnologie stanno cambiando l’esperienza turistica delle persone', 'pub_year': '2023', 'citation': 'Essere Digitali-Le scienze della politica allo studio dell’ultima rivoluzione, 2023'}, 'filled': False, 'author_pub_id': 'nh5wa-kAAAAJ:GnPB-g6toBAC', 'num_citations': 0}, {'container_type': 'Publication', 'source': <PublicationSource.AUTHOR_PUBLICATION_ENTRY: 'AUTHOR_PUBLICATION_ENTRY'>, 'bib': {'title': 'New Trends in Performance Estimation Techniques: Unified Statement-Level Approach for Embedded System Design', 'pub_year': '2020', 'citation': ''}, 'filled': False, 'author_pub_id': 'nh5wa-kAAAAJ:k_IJM867U9cC', 'num_citations': 0}, {'container_type': 'Publication', 'source': <PublicationSource.AUTHOR_PUBLICATION_ENTRY: 'AUTHOR_PUBLICATION_ENTRY'>, 'bib': {'title': 'HEPSYCODE-RTMC: Real-Time and Mixed Criticality Extensions for a System-Level HW/SW Co-Design Methodology', 'pub_year': '2017', 'citation': ''}, 'filled': False, 'author_pub_id': 'nh5wa-kAAAAJ:HDshCWvjkbEC', 'num_citations': 0}, {'container_type': 'Publication', 'source': <PublicationSource.AUTHOR_PUBLICATION_ENTRY: 'AUTHOR_PUBLICATION_ENTRY'>, 'bib': {'title': 'A Real-Time and Mixed Criticality Extension for a System-Level HW/SW Co-Design Methodology', 'pub_year': '2017', 'citation': ''}, 'filled': False, 'author_pub_id': 'nh5wa-kAAAAJ:mVmsd5A6BfQC', 'num_citations': 0}, {'container_type': 'Publication', 'source': <PublicationSource.AUTHOR_PUBLICATION_ENTRY: 'AUTHOR_PUBLICATION_ENTRY'>, 'bib': {'title': 'Time Bands: A Software Approach for Timing Analysis on Resource Constrained Systems', 'pub_year': '2017', 'citation': 'Proceedings of the 8th ACM/SPEC on International Conference on Performance …, 2017'}, 'filled': False, 'author_pub_id': 'nh5wa-kAAAAJ:YOwf2qJgpHMC', 'num_citations': 0}, {'container_type': 'Publication', 'source': <PublicationSource.AUTHOR_PUBLICATION_ENTRY: 'AUTHOR_PUBLICATION_ENTRY'>, 'bib': {'title': 'RTLS A-LOOP: A Real Time Location System on AMP system with 2-core ARM Cortex  A9 with Linux OS and 4-core LEON3 with Linux OS, OpenMP library and hardware Profiling system', 'pub_year': '2016', 'citation': ''}, 'filled': False, 'author_pub_id': 'nh5wa-kAAAAJ:MXK_kJrjxJIC', 'num_citations': 0}, {'container_type': 'Publication', 'source': <PublicationSource.AUTHOR_PUBLICATION_ENTRY: 'AUTHOR_PUBLICATION_ENTRY'>, 'bib': {'title': 'AIPHS: AdaptIve Profiling Hardware Sub-system', 'pub_year': '2016', 'citation': '2nd International Forum on Research and Technologies for Society and …, 2016'}, 'filled': False, 'author_pub_id': 'nh5wa-kAAAAJ:8k81kl-MbHgC', 'num_citations': 0}, {'container_type': 'Publication', 'source': <PublicationSource.AUTHOR_PUBLICATION_ENTRY: 'AUTHOR_PUBLICATION_ENTRY'>, 'bib': {'title': 'AIPHS: AdaptIve Profiling Hardware Sub-system', 'pub_year': '2016', 'citation': 'Conference on Design and Test Automation in Europe (DATE 2016) – University …, 2016'}, 'filled': False, 'author_pub_id': 'nh5wa-kAAAAJ:UebtZRa9Y70C', 'num_citations': 0}, {'container_type': 'Publication', 'source': <PublicationSource.AUTHOR_PUBLICATION_ENTRY: 'AUTHOR_PUBLICATION_ENTRY'>, 'bib': {'title': 'A-LOOP: AMP System with a Dual-core ARM Cortex A9 Processor with Linux Operating System and a Quad-core LEON3 Processor with Linux Operating System, OpenMP Library and Hardware …', 'pub_year': '2016', 'citation': 'Conference on Design and Test Automation in Europe (DATE 2016) – University …, 2016'}, 'filled': False, 'author_pub_id': 'nh5wa-kAAAAJ:Se3iqnhoufwC', 'num_citations': 0}, {'container_type': 'Publication', 'source': <PublicationSource.AUTHOR_PUBLICATION_ENTRY: 'AUTHOR_PUBLICATION_ENTRY'>, 'bib': {'title': 'WHICH: Watch over Heterogeneous Multicore ICs to Diagnose Harmful Stalls', 'pub_year': '2015', 'citation': '1st International Forum on Research and Technologies for Society and …, 2015'}, 'filled': False, 'author_pub_id': 'nh5wa-kAAAAJ:eQOLeE2rZwMC', 'num_citations': 0}, {'container_type': 'Publication', 'source': <PublicationSource.AUTHOR_PUBLICATION_ENTRY: 'AUTHOR_PUBLICATION_ENTRY'>, 'bib': {'title': 'Enhancing a FPGA-Based SMP Embedded Platform with OpenMP Support and Unobtrusive System Monitor', 'pub_year': '2015', 'citation': 'Euromicro Conference on Digital Systems Design (DSD 2015) - Work in Progress …, 2015'}, 'filled': False, 'author_pub_id': 'nh5wa-kAAAAJ:W7OEmFMy1HYC', 'num_citations': 0}, {'container_type': 'Publication', 'source': <PublicationSource.AUTHOR_PUBLICATION_ENTRY: 'AUTHOR_PUBLICATION_ENTRY'>, 'bib': {'title': '4-LOOP: 4-core Leon3 with Linux operating system, OpenMP library and hardware profiling system', 'pub_year': '2015', 'citation': 'Conference on Design and Test Automation in Europe (DATE 2015) – University …, 2015'}, 'filled': False, 'author_pub_id': 'nh5wa-kAAAAJ:YsMSGLbcyi4C', 'num_citations': 0}, {'container_type': 'Publication', 'source': <PublicationSource.AUTHOR_PUBLICATION_ENTRY: 'AUTHOR_PUBLICATION_ENTRY'>, 'bib': {'title': 'Sviluppo di un sistema embedded multi-core orientato ad un modello di programmazione parallela', 'pub_year': '2015', 'citation': \"University of L'Aquila, 2015\"}, 'filled': False, 'author_pub_id': 'nh5wa-kAAAAJ:WF5omc3nYNoC', 'num_citations': 0}, {'container_type': 'Publication', 'source': <PublicationSource.AUTHOR_PUBLICATION_ENTRY: 'AUTHOR_PUBLICATION_ENTRY'>, 'bib': {'title': 'DATE 2015 University Booth', 'pub_year': '2015', 'citation': ''}, 'filled': False, 'author_pub_id': 'nh5wa-kAAAAJ:RHpTSmoSYBkC', 'num_citations': 0}, {'container_type': 'Publication', 'source': <PublicationSource.AUTHOR_PUBLICATION_ENTRY: 'AUTHOR_PUBLICATION_ENTRY'>, 'bib': {'title': 'Analisi e sperimentazione di tecnologie per la realizzazione di Web TV', 'pub_year': '2011', 'citation': \"University of L'Aquila, 2011\"}, 'filled': False, 'author_pub_id': 'nh5wa-kAAAAJ:ufrVoPGSRksC', 'num_citations': 0}, {'container_type': 'Publication', 'source': <PublicationSource.AUTHOR_PUBLICATION_ENTRY: 'AUTHOR_PUBLICATION_ENTRY'>, 'bib': {'title': 'Systemc-Based Co-Simulation/Analysis for Esl Hw/Sw Co-Design of Heterogeneous Parallel Embedded Systems', 'citation': 'Analysis for Esl Hw/Sw Co-Design of Heterogeneous Parallel Embedded Systems, 0'}, 'filled': False, 'author_pub_id': 'nh5wa-kAAAAJ:hMod-77fHWUC', 'num_citations': 0}, {'container_type': 'Publication', 'source': <PublicationSource.AUTHOR_PUBLICATION_ENTRY: 'AUTHOR_PUBLICATION_ENTRY'>, 'bib': {'title': 'EMS 2017', 'citation': ''}, 'filled': False, 'author_pub_id': 'nh5wa-kAAAAJ:4JMBOYKVnBMC', 'num_citations': 0}, {'container_type': 'Publication', 'source': <PublicationSource.AUTHOR_PUBLICATION_ENTRY: 'AUTHOR_PUBLICATION_ENTRY'>, 'bib': {'title': '2016 Design, Automation & Test in Europe Conference & Exhibition (DATE)', 'citation': ''}, 'filled': False, 'author_pub_id': 'nh5wa-kAAAAJ:_Qo2XoVZTnwC', 'num_citations': 0}, {'container_type': 'Publication', 'source': <PublicationSource.AUTHOR_PUBLICATION_ENTRY: 'AUTHOR_PUBLICATION_ENTRY'>, 'bib': {'title': 'FM01 Reception & PhD Forum, hosted by EDAA, ACM SIGDA, and IEEE CEDA', 'citation': ''}, 'filled': False, 'author_pub_id': 'nh5wa-kAAAAJ:e5wmG9Sq2KIC', 'num_citations': 0}, {'container_type': 'Publication', 'source': <PublicationSource.AUTHOR_PUBLICATION_ENTRY: 'AUTHOR_PUBLICATION_ENTRY'>, 'bib': {'title': 'FM01 Welcome Reception & PhD Forum, hosted by EDAA, ACM SIGDA, and IEEE CEDA', 'citation': ''}, 'filled': False, 'author_pub_id': 'nh5wa-kAAAAJ:R3hNpaxXUhUC', 'num_citations': 0}, {'container_type': 'Publication', 'source': <PublicationSource.AUTHOR_PUBLICATION_ENTRY: 'AUTHOR_PUBLICATION_ENTRY'>, 'bib': {'title': 'HW/SW Co-Simulator for Embedded Heterogeneous Parallel Systems', 'citation': ''}, 'filled': False, 'author_pub_id': 'nh5wa-kAAAAJ:9ZlFYXVOiuMC', 'num_citations': 0}], 'public_access': {'available': 3, 'not_available': 0}}\n"
     ]
    }
   ],
   "source": [
    "from scholarly import scholarly\n",
    "\n",
    "# Retrieve the author's data, fill-in, and print\n",
    "search_query = scholarly.search_author('Vittoriano Muttillo')\n",
    "author = scholarly.fill(next(search_query))\n",
    "print(author)"
   ]
  },
  {
   "cell_type": "code",
   "execution_count": 10,
   "id": "a8b00be1",
   "metadata": {},
   "outputs": [
    {
     "name": "stdout",
     "output_type": "stream",
     "text": [
      "['Hardware performance sniffers for embedded systems profiling', 'AIDOaRt: AI-augmented Automation for DevOps, a model-based framework for continuous development in Cyber–Physical Systems', 'A flexible profiling sub-system for reconfigurable logic architectures', 'SystemC-based electronic system-level design space exploration environment for dedicated heterogeneous multi-processor systems', 'Aidoart: Ai-augmented automation for devops, a model-based framework for continuous development in cyber-physical systems', 'The AQUAS ECSEL project aggregated quality assurance for systems: Co-engineering inside and across the product life cycle', 'SPOF—Slave Powerlink on FPGA for smart sensors and actuators interfacing for industry 4.0 applications', 'Hepsycode-RT: A real-time extension for an ESL HW/SW co-design methodology', 'Cc4cs: An off-the-shelf unifying statement-level performance metric for hw/sw technologies', 'Design space exploration for mixed-criticality embedded systems considering hypervisor-based sw partitions', 'An Efficient Performance-Driven Approach for HW/SW Co-Design', 'Benchmarking analysis and characterization of hypervisors for space multicore systems', 'A design methodology for soft-core platforms on FPGA with SMP Linux, OpenMP support, and distributed hardware profiling system', 'HEPSIM: An ESL HW/SW co-simulator/analysis tool for heterogeneous parallel embedded systems', 'Criticality-aware Design Space Exploration for Mixed-Criticality Embedded Systems', 'SystemC-based Co-Simulation/Analysis for System-Level Hardware/Software Co-Design', 'HW/SW co-design framework for mixed-criticality embedded systems considering Xtratum-Based SW partitions', 'Criticality-driven design space exploration for mixed-criticality heterogeneous parallel embedded systems', 'A Lightweight, Hardware-Based Support for Isolation in Mixed-Criticality Network-on-Chip Architectures', 'J4CS: An early-stage statement-level metric for energy consumption of embedded SW', 'A proposal to expand the community of users able to process historical rainfall data by means of the today available open source libraries', 'Statement-level timing estimation for embedded system design using machine learning techniques', 'An early-stage statement-level metric for energy characterization of embedded processors', 'An openmp parallel genetic algorithm for design space exploration of heterogeneous multi-processor embedded systems', 'A low cost and flexible power line communication sensory system for home automation', 'CC4CS: A Unifying Statement-Level Performance Metric for HW/SW Technologies', 'A Model-Based ESL HW/SW Co-Design Framework for Mixed-Criticality Systems', 'Experiences and challenges from developing cyber‐physical systems in industry‐academia collaboration', 'Run-time monitoring and trace analysis methodology for component-based embedded systems design flow', 'Towards the design of microcontroller based embedded sensory systems with a five-parameter single diode estimation method for photovoltaic panels', 'Simulation-based analysis of a hardware mechanism to support isolation in mixed-criticality network on chip', 'Model-Based HW/SW Co-Design Methodology for UAV Systems Development', 'Tuning DSE for Heterogeneous Multi-Processor Embedded Systems by means of a Self-Equalized Weighted Sum Method', 'HW/SW Co-design Methodology and Framework for Mixed-criticality and Real-time Embedded Systems', 'Injecting hypervisor-based software partitions into Design Space Exploration activities considering mixed-criticality requirements', 'A Survey of Mixed-Criticality Systems Implementation Techniques', 'An Integrated ESL Methodology for Developing Embedded Parallel Systems in Mixed-Criticality Scenarios', 'Design and validation of multi-core embedded systems under time-to-prototype and high performance constraints', 'Implementing mixed-critical applications on next generation multicore aerospace platforms', 'Towards Synthetic Trace Generation of Modeling Operations using In-Context Learning Approach', 'SLIDE-x-ML: System-Level Infrastructure for Dataset E-xtraction and Machine Learning Framework for High-Level Synthesis Estimations', 'Analysis of Reconfiguration Delay in Heterogeneous Systems-on-Chip via Traffic Injection', 'Dall’Industria 4.0 al Turismo 4.0: Come le nuove tecnologie stanno cambiando l’esperienza turistica delle persone', 'New Trends in Performance Estimation Techniques: Unified Statement-Level Approach for Embedded System Design', 'HEPSYCODE-RTMC: Real-Time and Mixed Criticality Extensions for a System-Level HW/SW Co-Design Methodology', 'A Real-Time and Mixed Criticality Extension for a System-Level HW/SW Co-Design Methodology', 'Time Bands: A Software Approach for Timing Analysis on Resource Constrained Systems', 'RTLS A-LOOP: A Real Time Location System on AMP system with 2-core ARM Cortex  A9 with Linux OS and 4-core LEON3 with Linux OS, OpenMP library and hardware Profiling system', 'AIPHS: AdaptIve Profiling Hardware Sub-system', 'AIPHS: AdaptIve Profiling Hardware Sub-system', 'A-LOOP: AMP System with a Dual-core ARM Cortex A9 Processor with Linux Operating System and a Quad-core LEON3 Processor with Linux Operating System, OpenMP Library and Hardware …', 'WHICH: Watch over Heterogeneous Multicore ICs to Diagnose Harmful Stalls', 'Enhancing a FPGA-Based SMP Embedded Platform with OpenMP Support and Unobtrusive System Monitor', '4-LOOP: 4-core Leon3 with Linux operating system, OpenMP library and hardware profiling system', 'Sviluppo di un sistema embedded multi-core orientato ad un modello di programmazione parallela', 'DATE 2015 University Booth', 'Analisi e sperimentazione di tecnologie per la realizzazione di Web TV', 'Systemc-Based Co-Simulation/Analysis for Esl Hw/Sw Co-Design of Heterogeneous Parallel Embedded Systems', 'EMS 2017', '2016 Design, Automation & Test in Europe Conference & Exhibition (DATE)', 'FM01 Reception & PhD Forum, hosted by EDAA, ACM SIGDA, and IEEE CEDA', 'FM01 Welcome Reception & PhD Forum, hosted by EDAA, ACM SIGDA, and IEEE CEDA', 'HW/SW Co-Simulator for Embedded Heterogeneous Parallel Systems']\n"
     ]
    }
   ],
   "source": [
    "# Print the titles of the author's publications\n",
    "print([pub['bib']['title'] for pub in author['publications']])"
   ]
  },
  {
   "cell_type": "code",
   "execution_count": 11,
   "id": "184c8a08",
   "metadata": {},
   "outputs": [
    {
     "name": "stdout",
     "output_type": "stream",
     "text": [
      "{'container_type': 'Publication', 'source': <PublicationSource.AUTHOR_PUBLICATION_ENTRY: 'AUTHOR_PUBLICATION_ENTRY'>, 'bib': {'title': 'Hardware performance sniffers for embedded systems profiling', 'pub_year': 2015, 'citation': '2015 12th International Workshop on Intelligent Solutions in Embedded …, 2015', 'author': 'Andrea Moro and Fabio Federici and Giacomo Valente and Luigi Pomante and Marco Faccio and Vittoriano Muttillo', 'conference': '2015 12th International Workshop on Intelligent Solutions in Embedded Systems (WISES)', 'pages': '29-34', 'publisher': 'IEEE', 'abstract': 'Today on-chip monitoring solutions should be characterized by a reduced software and hardware overheads. So, this work deals with techniques to profile computational behavior and communication patterns of hardware/software components belonging to systems with multiple processing elements, i.e. a more general representation of on-chip embedded systems. In particular, the paper focuses on profiling techniques based on ad-hoc hardware mechanisms in order to avoid possible distortion of system behavior due to the monitoring action itself, thus satisfying unobtrusive profiling requirement. The final goal is the definition of a set of metrics to profile memory accesses and communication between processing elements, and the development of proper hardware mechanisms to support their evaluation. The profiling system architecture is described and its possible advantages over alternative software-based and …'}, 'filled': True, 'author_pub_id': 'nh5wa-kAAAAJ:roLk4NBRz8UC', 'num_citations': 28, 'citedby_url': '/scholar?hl=en&cites=9795380728956942762', 'cites_id': ['9795380728956942762'], 'pub_url': 'https://ieeexplore.ieee.org/abstract/document/7356977/', 'url_related_articles': '/scholar?oi=bibs&hl=en&q=related:qnkv9d8u8IcJ:scholar.google.com/', 'cites_per_year': {2016: 3, 2017: 2, 2018: 1, 2019: 5, 2020: 8, 2021: 3, 2022: 2, 2023: 4}}\n"
     ]
    }
   ],
   "source": [
    "# Take a closer look at the first publication\n",
    "pub = scholarly.fill(author['publications'][0])\n",
    "print(pub)"
   ]
  },
  {
   "cell_type": "code",
   "execution_count": null,
   "id": "d32a6f24",
   "metadata": {},
   "outputs": [],
   "source": [
    "# Which papers cited that publication?\n",
    "print([citation['bib']['title'] for citation in scholarly.citedby(pub)])"
   ]
  },
  {
   "cell_type": "code",
   "execution_count": 14,
   "id": "02770724",
   "metadata": {},
   "outputs": [
    {
     "name": "stdout",
     "output_type": "stream",
     "text": [
      "b\"{'affiliation': 'Professor of Vision Science, UC Berkeley',\\n 'citedby': 26396,\\n 'email_domain': '@berkeley.edu',\\n 'filled': False,\\n 'interests': ['vision science', 'psychology', 'human factors', 'neuroscience'],\\n 'name': 'Martin Banks',\\n 'scholar_id': 'Smr99uEAAAAJ',\\n 'source': 'SEARCH_AUTHOR_SNIPPETS',\\n 'url_picture': 'https://scholar.google.com/citations?view_op=medium_photo&user=Smr99uEAAAAJ'}\"\n"
     ]
    }
   ],
   "source": [
    "search_query = scholarly.search_author('Marty Banks, Berkeley')\n",
    "scholarly.pprint(next(search_query))"
   ]
  },
  {
   "cell_type": "code",
   "execution_count": 4,
   "id": "412cfa49",
   "metadata": {},
   "outputs": [
    {
     "ename": "StopIteration",
     "evalue": "",
     "output_type": "error",
     "traceback": [
      "\u001b[1;31m---------------------------------------------------------------------------\u001b[0m",
      "\u001b[1;31mStopIteration\u001b[0m                             Traceback (most recent call last)",
      "Cell \u001b[1;32mIn[4], line 2\u001b[0m\n\u001b[0;32m      1\u001b[0m search_query \u001b[38;5;241m=\u001b[39m scholarly\u001b[38;5;241m.\u001b[39msearch_pubs(\u001b[38;5;124m\"\u001b[39m\u001b[38;5;124mComprehensive Review of Machine Learning, Deep Learning, and Digital Twin Data-Driven Approaches in Battery Health Prediction of Electric Vehicles\u001b[39m\u001b[38;5;124m\"\u001b[39m)\n\u001b[1;32m----> 2\u001b[0m scholarly\u001b[38;5;241m.\u001b[39mpprint(\u001b[38;5;28;43mnext\u001b[39;49m\u001b[43m(\u001b[49m\u001b[43msearch_query\u001b[49m\u001b[43m)\u001b[49m)\n",
      "File \u001b[1;32m~\\anaconda3\\lib\\site-packages\\scholarly\\publication_parser.py:93\u001b[0m, in \u001b[0;36m_SearchScholarIterator.__next__\u001b[1;34m(self)\u001b[0m\n\u001b[0;32m     91\u001b[0m     \u001b[38;5;28;01mreturn\u001b[39;00m \u001b[38;5;28mself\u001b[39m\u001b[38;5;241m.\u001b[39m\u001b[38;5;21m__next__\u001b[39m()\n\u001b[0;32m     92\u001b[0m \u001b[38;5;28;01melse\u001b[39;00m:\n\u001b[1;32m---> 93\u001b[0m     \u001b[38;5;28;01mraise\u001b[39;00m \u001b[38;5;167;01mStopIteration\u001b[39;00m\n",
      "\u001b[1;31mStopIteration\u001b[0m: "
     ]
    }
   ],
   "source": [
    "search_query = scholarly.search_pubs(\"Comprehensive Review of Machine Learning, Deep Learning, and Digital Twin Data-Driven Approaches in Battery Health Prediction of Electric Vehicles\")\n",
    "scholarly.pprint(next(search_query))"
   ]
  },
  {
   "cell_type": "code",
   "execution_count": 5,
   "id": "e5c7bde0",
   "metadata": {},
   "outputs": [
    {
     "ename": "StopIteration",
     "evalue": "",
     "output_type": "error",
     "traceback": [
      "\u001b[1;31m---------------------------------------------------------------------------\u001b[0m",
      "\u001b[1;31mStopIteration\u001b[0m                             Traceback (most recent call last)",
      "Cell \u001b[1;32mIn[5], line 2\u001b[0m\n\u001b[0;32m      1\u001b[0m query \u001b[38;5;241m=\u001b[39m scholarly\u001b[38;5;241m.\u001b[39msearch_pubs(\u001b[38;5;124m\"\u001b[39m\u001b[38;5;124mComprehensive Review of Machine Learning, Deep Learning, and Digital Twin Data-Driven Approaches in Battery Health Prediction of Electric Vehicles\u001b[39m\u001b[38;5;124m\"\u001b[39m)\n\u001b[1;32m----> 2\u001b[0m pub \u001b[38;5;241m=\u001b[39m \u001b[38;5;28;43mnext\u001b[39;49m\u001b[43m(\u001b[49m\u001b[43mquery\u001b[49m\u001b[43m)\u001b[49m\n\u001b[0;32m      3\u001b[0m scholarly\u001b[38;5;241m.\u001b[39mbibtex(pub)\n",
      "File \u001b[1;32m~\\anaconda3\\lib\\site-packages\\scholarly\\publication_parser.py:93\u001b[0m, in \u001b[0;36m_SearchScholarIterator.__next__\u001b[1;34m(self)\u001b[0m\n\u001b[0;32m     91\u001b[0m     \u001b[38;5;28;01mreturn\u001b[39;00m \u001b[38;5;28mself\u001b[39m\u001b[38;5;241m.\u001b[39m\u001b[38;5;21m__next__\u001b[39m()\n\u001b[0;32m     92\u001b[0m \u001b[38;5;28;01melse\u001b[39;00m:\n\u001b[1;32m---> 93\u001b[0m     \u001b[38;5;28;01mraise\u001b[39;00m \u001b[38;5;167;01mStopIteration\u001b[39;00m\n",
      "\u001b[1;31mStopIteration\u001b[0m: "
     ]
    }
   ],
   "source": [
    "query = scholarly.search_pubs(\"Comprehensive Review of Machine Learning, Deep Learning, and Digital Twin Data-Driven Approaches in Battery Health Prediction of Electric Vehicles\")\n",
    "pub = next(query)\n",
    "scholarly.bibtex(pub)"
   ]
  },
  {
   "cell_type": "code",
   "execution_count": 7,
   "id": "a8bf6279",
   "metadata": {},
   "outputs": [
    {
     "name": "stdout",
     "output_type": "stream",
     "text": [
      "Paper trovato: Comprehensive Review of Machine Learning, Deep Learning, and Digital Twin Data-Driven Approaches in Battery Health Prediction of Electric Vehicles\n",
      "Numero di articoli che citano questo paper: 4\n"
     ]
    },
    {
     "data": {
      "text/plain": [
       "4"
      ]
     },
     "execution_count": 7,
     "metadata": {},
     "output_type": "execute_result"
    }
   ],
   "source": [
    "import requests\n",
    "\n",
    "def get_crossref_citations(doi):\n",
    "    # Endpoint per i metadati di Crossref\n",
    "    url = f\"https://api.crossref.org/works/{doi}\"\n",
    "    \n",
    "    try:\n",
    "        response = requests.get(url)\n",
    "        response.raise_for_status()\n",
    "        data = response.json()\n",
    "        \n",
    "        # Estrae le informazioni principali del paper\n",
    "        title = data['message']['title'][0] if 'title' in data['message'] else \"No Title Found\"\n",
    "        print(f\"Paper trovato: {title}\")\n",
    "        \n",
    "        # Verifica se ci sono link relativi a citazioni\n",
    "        citations_count = data['message'].get('is-referenced-by-count', 0)\n",
    "        print(f\"Numero di articoli che citano questo paper: {citations_count}\")\n",
    "        \n",
    "        # Non restituisce articoli citanti direttamente; bisogna utilizzare servizi di aggregazione.\n",
    "        return citations_count\n",
    "    \n",
    "    except requests.exceptions.RequestException as e:\n",
    "        print(f\"Errore durante la chiamata all'API Crossref: {e}\")\n",
    "        return None\n",
    "\n",
    "# Esempio di utilizzo\n",
    "doi = \"10.1109/ACCESS.2024.3380452\"  # Inserisci il DOI\n",
    "get_crossref_citations(doi)\n"
   ]
  },
  {
   "cell_type": "code",
   "execution_count": 8,
   "id": "cec48b6c",
   "metadata": {},
   "outputs": [
    {
     "name": "stdout",
     "output_type": "stream",
     "text": [
      "Paper found: Comprehensive Review of Machine Learning, Deep Learning, and Digital Twin Data-Driven Approaches in Battery Health Prediction of Electric Vehicles\n",
      "Number of articles citing this paper: 4\n",
      "No detailed citation information available in the Crossref data.\n"
     ]
    },
    {
     "data": {
      "text/plain": [
       "4"
      ]
     },
     "execution_count": 8,
     "metadata": {},
     "output_type": "execute_result"
    }
   ],
   "source": [
    "import requests\n",
    "\n",
    "def get_crossref_citations(doi):\n",
    "    \"\"\"\n",
    "    Retrieves information about a paper using the Crossref API and lists the \n",
    "    number of citations along with citing papers' details if available.\n",
    "    \"\"\"\n",
    "    # Endpoint for Crossref metadata\n",
    "    url = f\"https://api.crossref.org/works/{doi}\"\n",
    "    \n",
    "    try:\n",
    "        response = requests.get(url)\n",
    "        response.raise_for_status()\n",
    "        data = response.json()\n",
    "        \n",
    "        # Extract main information about the paper\n",
    "        title = data['message']['title'][0] if 'title' in data['message'] else \"No Title Found\"\n",
    "        print(f\"Paper found: {title}\")\n",
    "        \n",
    "        # Check for citations\n",
    "        citations_count = data['message'].get('is-referenced-by-count', 0)\n",
    "        print(f\"Number of articles citing this paper: {citations_count}\")\n",
    "        \n",
    "        # Crossref does not provide citing articles directly; look for related links\n",
    "        citing_papers_url = data['message'].get('relation', {}).get('cites', {}).get('id', [])\n",
    "        if citing_papers_url:\n",
    "            print(\"\\nCiting papers:\")\n",
    "            for citing_url in citing_papers_url:\n",
    "                citing_doi = citing_url.replace('https://doi.org/', '')\n",
    "                print(f\"- DOI: {citing_doi}\")\n",
    "                try:\n",
    "                    # Fetch details of the citing paper\n",
    "                    citing_response = requests.get(f\"https://api.crossref.org/works/{citing_doi}\")\n",
    "                    citing_response.raise_for_status()\n",
    "                    citing_data = citing_response.json()\n",
    "                    citing_title = citing_data['message'].get('title', [\"No Title\"])[0]\n",
    "                    print(f\"  Title: {citing_title}\")\n",
    "                except requests.exceptions.RequestException:\n",
    "                    print(f\"  Failed to fetch details for DOI: {citing_doi}\")\n",
    "        else:\n",
    "            print(\"No detailed citation information available in the Crossref data.\")\n",
    "        \n",
    "        return citations_count\n",
    "\n",
    "    except requests.exceptions.RequestException as e:\n",
    "        print(f\"Error during API call to Crossref: {e}\")\n",
    "        return None\n",
    "\n",
    "# Example usage\n",
    "doi = \"10.1109/ACCESS.2024.3380452\"  # Enter the DOI of the paper\n",
    "get_crossref_citations(doi)"
   ]
  },
  {
   "cell_type": "code",
   "execution_count": 1,
   "id": "d452aa66",
   "metadata": {},
   "outputs": [
    {
     "ename": "NameError",
     "evalue": "name 'scholarly' is not defined",
     "output_type": "error",
     "traceback": [
      "\u001b[1;31m---------------------------------------------------------------------------\u001b[0m",
      "\u001b[1;31mNameError\u001b[0m                                 Traceback (most recent call last)",
      "Cell \u001b[1;32mIn[1], line 7\u001b[0m\n\u001b[0;32m      5\u001b[0m pg \u001b[38;5;241m=\u001b[39m ProxyGenerator()\n\u001b[0;32m      6\u001b[0m pg\u001b[38;5;241m.\u001b[39mFreeProxies()\n\u001b[1;32m----> 7\u001b[0m \u001b[43mscholarly\u001b[49m\u001b[38;5;241m.\u001b[39muse_proxy(pg)\n\u001b[0;32m      9\u001b[0m \u001b[38;5;66;03m# Now search Google Scholar from behind a proxy\u001b[39;00m\n\u001b[0;32m     10\u001b[0m search_query \u001b[38;5;241m=\u001b[39m scholarly\u001b[38;5;241m.\u001b[39msearch_pubs(\u001b[38;5;124m'\u001b[39m\u001b[38;5;124mA Bibliometric Analysis on Modelbased Systems Engineering\u001b[39m\u001b[38;5;124m'\u001b[39m)\n",
      "\u001b[1;31mNameError\u001b[0m: name 'scholarly' is not defined"
     ]
    }
   ],
   "source": [
    "from scholarly import ProxyGenerator\n",
    "\n",
    "# Set up a ProxyGenerator object to use free proxies\n",
    "# This needs to be done only once per session\n",
    "pg = ProxyGenerator()\n",
    "pg.FreeProxies()\n",
    "scholarly.use_proxy(pg)\n",
    "\n",
    "# Now search Google Scholar from behind a proxy\n",
    "search_query = scholarly.search_pubs('A Bibliometric Analysis on Modelbased Systems Engineering')\n",
    "scholarly.pprint(next(search_query))"
   ]
  },
  {
   "cell_type": "code",
   "execution_count": 30,
   "id": "61abc456",
   "metadata": {},
   "outputs": [
    {
     "name": "stdout",
     "output_type": "stream",
     "text": [
      "list index out of range\n"
     ]
    }
   ],
   "source": [
    "import requests\n",
    "from bs4 import BeautifulSoup\n",
    " \n",
    "def getScholarData():\n",
    "    try:\n",
    "        url = \"https://www.google.com/scholar?q=Quantum+Physics&hl=en\"\n",
    "        headers = {\n",
    "            \"User-Agent\": \"Mozilla/5.0 (Macintosh; Intel Mac OS X 10_11_3) AppleWebKit/537.36 (KHTML, like Gecko) Chrome/100.0.4896.127 Safari/537.36\"\n",
    "        }\n",
    "        response = requests.get(url, headers=headers)\n",
    "        soup = BeautifulSoup(response.text, 'html.parser')\n",
    " \n",
    "        scholar_results = []\n",
    " \n",
    "        for el in soup.select(\".gs_r\"):\n",
    "            scholar_results.append({\n",
    "                \"title\": el.select(\".gs_rt\")[0].text,\n",
    "                \"title_link\": el.select(\".gs_rt a\")[0][\"href\"],\n",
    "                \"id\": el.select(\".gs_rt a\")[0][\"id\"],\n",
    "                \"displayed_link\": el.select(\".gs_a\")[0].text,\n",
    "                \"snippet\": el.select(\".gs_rs\")[0].text.replace(\"\\n\", \"\"),\n",
    "                \"cited_by_count\": el.select(\".gs_nph+ a\")[0].text,\n",
    "                \"cited_link\": \"https://scholar.google.com\" + el.select(\".gs_nph+ a\")[0][\"href\"],\n",
    "                \"versions_count\": el.select(\"a~ a+ .gs_nph\")[0].text,\n",
    "                \"versions_link\": \"https://scholar.google.com\" + el.select(\"a~ a+ .gs_nph\")[0][\"href\"] if el.select(\"a~ a+ .gs_nph\")[0].text else \"\",\n",
    "            })\n",
    " \n",
    "        for i in range(len(scholar_results)):\n",
    "            scholar_results[i] = {key: value for key, value in scholar_results[i].items() if value != \"\" and value is not None}\n",
    " \n",
    "        print(scholar_results)\n",
    " \n",
    "    except Exception as e:\n",
    "        print(e)\n",
    " \n",
    "getScholarData()"
   ]
  },
  {
   "cell_type": "code",
   "execution_count": 31,
   "id": "e6c1ef6f",
   "metadata": {},
   "outputs": [
    {
     "name": "stdout",
     "output_type": "stream",
     "text": [
      "[{'title': 'MLA', 'snippet': 'Gasiorowicz, Stephen. Quantum physics. John Wiley & Sons, 2007.'}, {'title': 'APA', 'snippet': 'Gasiorowicz, S. (2007). Quantum physics. John Wiley & Sons.'}, {'title': 'ISO 690', 'snippet': 'GASIOROWICZ, Stephen. Quantum physics. John Wiley & Sons, 2007.'}]\n",
      "[{'name': 'BibTeX', 'link': 'https://scholar.googleusercontent.com/scholar.bib?q=info:cU32d0ZoSA0J:scholar.google.com/&output=citation&scisdr=ClHdG-LjGAA:AFWwaeYAAAAAZ0TagsHIpckEMQqSGCEhVsfq6j0&scisig=AFWwaeYAAAAAZ0TaggyiIatT3RQVCZfz69kUakw&scisf=4&ct=citation&cd=-1&hl=it'}, {'name': 'EndNote', 'link': 'https://scholar.googleusercontent.com/scholar.enw?q=info:cU32d0ZoSA0J:scholar.google.com/&output=citation&scisdr=ClHdG-LjGAA:AFWwaeYAAAAAZ0TagsHIpckEMQqSGCEhVsfq6j0&scisig=AFWwaeYAAAAAZ0TaggyiIatT3RQVCZfz69kUakw&scisf=3&ct=citation&cd=-1&hl=it'}, {'name': 'RefMan', 'link': 'https://scholar.googleusercontent.com/scholar.ris?q=info:cU32d0ZoSA0J:scholar.google.com/&output=citation&scisdr=ClHdG-LjGAA:AFWwaeYAAAAAZ0TagsHIpckEMQqSGCEhVsfq6j0&scisig=AFWwaeYAAAAAZ0TaggyiIatT3RQVCZfz69kUakw&scisf=2&ct=citation&cd=-1&hl=it'}, {'name': 'RefWorks', 'link': 'https://scholar.googleusercontent.com/scholar.rfw?q=info:cU32d0ZoSA0J:scholar.google.com/&output=citation&scisdr=ClHdG-LjGAA:AFWwaeYAAAAAZ0TagsHIpckEMQqSGCEhVsfq6j0&scisig=AFWwaeYAAAAAZ0TaggyiIatT3RQVCZfz69kUakw&scisf=1&ct=citation&cd=-1&hl=it'}]\n"
     ]
    }
   ],
   "source": [
    "import requests\n",
    "from bs4 import BeautifulSoup\n",
    "def getData():\n",
    "    try:\n",
    "        url = \"https://scholar.google.com/scholar?q=info:cU32d0ZoSA0J:scholar.google.com&output=cite\"\n",
    "        headers = {\"User-Agent\": \"Mozilla/5.0 (Windows NT 10.0; WOW64) AppleWebKit/537.36 (KHTML, like Gecko) Chrome/104.0.0.0 Safari/537.36\"}\n",
    "        response = requests.get(url, headers=headers)\n",
    "        soup = BeautifulSoup(response.content, \"html.parser\")\n",
    "        cite_results = []\n",
    "        for el in soup.select(\"#gs_citt tr\"):\n",
    "            cite_results.append({\n",
    "                \"title\": el.select_one(\".gs_cith\").text.strip(),\n",
    "                \"snippet\": el.select_one(\".gs_citr\").text.strip()\n",
    "            })\n",
    "        links = []\n",
    "        for el in soup.select(\"#gs_citi .gs_citi\"):\n",
    "            links.append({\n",
    "                \"name\": el.text.strip(),\n",
    "                \"link\": el.get(\"href\")\n",
    "            })\n",
    "        print(cite_results)\n",
    "        print(links)\n",
    "    except Exception as e:\n",
    "        print(e)\n",
    "\n",
    "getData()"
   ]
  },
  {
   "cell_type": "code",
   "execution_count": 32,
   "id": "08a093b1",
   "metadata": {},
   "outputs": [
    {
     "name": "stdout",
     "output_type": "stream",
     "text": [
      "[{'name': 'Georg Kresse', 'name_link': 'https://scholar.google.com/citations?hl=en&user=Pn8ouvAAAAAJ', 'position': 'University of Vienna, Faculty of Physics, Professor for Computational Quantum Mechanics', 'email': 'Verified email at univie.ac.at', 'departments': 'density functional theory first principles calculations many body theory condensed matter physics materials science ', 'cited_by_count': '417707'}, {'name': 'Clint MacDonald', 'name_link': 'https://scholar.google.com/citations?hl=en&user=fOBNZWYAAAAJ', 'position': \"Physics, Mathematics and Astrophysics, Quantum Computer Science, Rocket's software\\xa0…\", 'email': 'Verified email at clintmac.com', 'departments': 'Quantum Mechanics Analysis Quantum Computer Science Quantum\\xa0… Mathematical Models ', 'cited_by_count': '100996'}, {'name': 'Manuel Proissl', 'name_link': 'https://scholar.google.com/citations?hl=en&user=ikHSFIkAAAAJ', 'position': 'Data Science Leader, Quantum Computing Technologist, Physicist', 'email': 'Verified email at ibm.com', 'departments': 'quantum computing machine learning deep learning causal inference ', 'cited_by_count': '91655'}, {'name': 'Ferenc Krausz', 'name_link': 'https://scholar.google.com/citations?hl=en&user=4pI96v4AAAAJ', 'position': '…\\xa0Max Planck Institute of Quantum Optics and Chair of Experimental Physics at LMU Munich', 'email': 'Verified email at mpq.mpg.de', 'departments': 'Laser Physics Nonlinear Optics Attosecond Physics Molecular Fingerprinting ', 'cited_by_count': '85955'}, {'name': 'Tobias J Kippenberg', 'name_link': 'https://scholar.google.com/citations?hl=en&user=PRCbG2kAAAAJ', 'position': 'EPFL, Institute of Condensed Matter Physics, Laboratory of Photonics and Quantum\\xa0…', 'email': 'Verified email at epfl.ch', 'departments': 'Cavity quantum optomechanics Superconducting microwave optomechanics nonlinear integrated photonics nano-mechanical systems ', 'cited_by_count': '70888'}, {'name': 'Vlatko Vedral', 'name_link': 'https://scholar.google.com/citations?hl=en&user=d0ruO6gAAAAJ', 'position': 'Professor of Quantum Information, University of Oxford', 'email': 'Verified email at physics.ox.ac.uk', 'departments': 'quantum physics ', 'cited_by_count': '50044'}, {'name': 'Jens Eisert', 'name_link': 'https://scholar.google.com/citations?hl=en&user=WawCci0AAAAJ', 'position': 'Professor of Quantum Physics at Freie Universität Berlin, Fraunhofer HHI and Helmholtz\\xa0…', 'email': 'Verified email at physik.fu-berlin.de', 'departments': 'Many-body physics quantum information theory quantum technologies quantum simulation tensor networks ', 'cited_by_count': '43470'}, {'name': 'r laflamme', 'name_link': 'https://scholar.google.com/citations?hl=en&user=UBusZfYAAAAJ', 'position': 'Institute for Quantum Computing and Physics & Astro Dept, U of Waterloo and Perimeter\\xa0…', 'email': 'Verified email at iqc.ca', 'cited_by_count': '40988'}, {'name': 'Samuel L. Braunstein', 'name_link': 'https://scholar.google.com/citations?hl=en&user=jh-mlXoAAAAJ', 'position': 'Professor of Quantum Computational Physics, University of York', 'email': 'Verified email at york.ac.uk', 'departments': 'Theoretical Physics Quantum Information Quantum Optics Gravity Gravitation ', 'cited_by_count': '38438'}, {'name': 'Ping Koy LAM', 'name_link': 'https://scholar.google.com/citations?hl=en&user=yMqO7pwAAAAJ', 'position': 'A*STAR Chief Quantum Scientist & ANU Professor of Physics', 'email': 'Verified email at anu.edu.au', 'departments': 'Quantum Optics Quantum Cryptography Quantum Measurement ', 'cited_by_count': '28889'}]\n"
     ]
    }
   ],
   "source": [
    "import requests\n",
    "from bs4 import BeautifulSoup\n",
    "\n",
    "def getScholarProfiles():\n",
    "    try:\n",
    "        url = \"https://scholar.google.com/citations?hl=en&view_op=search_authors&mauthors=Quantum+Physics\"\n",
    "        headers = {\n",
    "            \"User-Agent\": \"Mozilla/5.0 (Windows NT 10.0; Win64; x64) AppleWebKit/537.36 (KHTML, like Gecko) Chrome/101.0.4951.54 Safari/537.36\"\n",
    "        }\n",
    "        response = requests.get(url, headers=headers)\n",
    "        soup = BeautifulSoup(response.content, 'html.parser')\n",
    "        \n",
    "        scholar_profiles = []\n",
    "        for el in soup.select('.gsc_1usr'):\n",
    "            profile = {\n",
    "                'name': el.select_one('.gs_ai_name').get_text(),\n",
    "                'name_link': 'https://scholar.google.com' + el.select_one('.gs_ai_name a')['href'],\n",
    "                'position': el.select_one('.gs_ai_aff').get_text(),\n",
    "                'email': el.select_one('.gs_ai_eml').get_text(),\n",
    "                'departments': el.select_one('.gs_ai_int').get_text(),\n",
    "                'cited_by_count': el.select_one('.gs_ai_cby').get_text().split(' ')[2]\n",
    "            }\n",
    "            scholar_profiles.append({k: v for k, v in profile.items() if v})\n",
    "        \n",
    "        print(scholar_profiles)\n",
    "    except Exception as e:\n",
    "        print(e)\n",
    "\n",
    "getScholarProfiles()"
   ]
  },
  {
   "cell_type": "code",
   "execution_count": 33,
   "id": "7b002ec2",
   "metadata": {},
   "outputs": [
    {
     "name": "stdout",
     "output_type": "stream",
     "text": [
      "200\n",
      "{'name': 'Vittoriano Muttillo', 'position': \"University of Teramo - Center of Excellence DEWS (University of L'Aquila)\", 'email': 'Email verificata su unite.it', 'published_content': 'Electronic Design AutomationHW/SW Co-DesignEmbedded SystemsSoftware EngineeringDesign Space'}\n"
     ]
    }
   ],
   "source": [
    "import requests\n",
    "from bs4 import BeautifulSoup\n",
    "\n",
    "def getAuthorProfileData():\n",
    "    try:\n",
    "        url = \"https://scholar.google.com/citations?user=nh5wa-kAAAAJ&hl=it\"\n",
    "        headers = {\n",
    "            \"User-Agent\": \"Mozilla/5.0 (Macintosh; Intel Mac OS X 10_13_5) AppleWebKit/537.36 (KHTML, like Gecko) Chrome/100.0.4896.127 Safari/537.36\"\n",
    "        }\n",
    "        response = requests.get(url, headers=headers)\n",
    "        print(response.status_code)\n",
    "        soup = BeautifulSoup(response.text, 'html.parser')\n",
    "        author_results = {}\n",
    "        author_results['name'] = soup.select_one(\"#gsc_prf_in\").get_text()\n",
    "        author_results['position'] = soup.select_one(\"#gsc_prf_inw+ .gsc_prf_il\").text\n",
    "        author_results['email'] = soup.select_one(\"#gsc_prf_ivh\").text\n",
    "        author_results['published_content'] = soup.select_one(\"#gsc_prf_int\").text\n",
    "        print(author_results)\n",
    "    except Exception as e:\n",
    "        print(e)\n",
    "\n",
    "getAuthorProfileData()"
   ]
  },
  {
   "cell_type": "code",
   "execution_count": 36,
   "id": "e114144c",
   "metadata": {},
   "outputs": [
    {
     "name": "stdout",
     "output_type": "stream",
     "text": [
      "{'name': 'Vittoriano Muttillo', 'position': \"University of Teramo - Center of Excellence DEWS (University of L'Aquila)\", 'email': 'Email verificata su unite.it', 'departments': 'Electronic Design AutomationHW/SW Co-DesignEmbedded SystemsSoftware EngineeringDesign Space'}\n",
      "[{'title': 'Hardware performance sniffers for embedded systems profiling', 'link': 'https://scholar.google.com/citations?view_op=view_citation&hl=it&user=nh5wa-kAAAAJ&citation_for_view=nh5wa-kAAAAJ:roLk4NBRz8UC', 'authors': 'A Moro, F Federici, G Valente, L Pomante, M Faccio, V Muttillo', 'publication': '2015 12th International Workshop on Intelligent Solutions in Embedded\\xa0…, 2015'}, {'title': 'AIDOaRt: AI-augmented Automation for DevOps, a model-based framework for continuous development in Cyber–Physical Systems', 'link': 'https://scholar.google.com/citations?view_op=view_citation&hl=it&user=nh5wa-kAAAAJ&citation_for_view=nh5wa-kAAAAJ:blknAaTinKkC', 'authors': 'H Bruneliere, V Muttillo, R Eramo, L Berardinelli, A Gómez, A Bagnato, ...', 'publication': 'Microprocessors and Microsystems 94, 104672, 2022'}, {'title': 'A flexible profiling sub-system for reconfigurable logic architectures', 'link': 'https://scholar.google.com/citations?view_op=view_citation&hl=it&user=nh5wa-kAAAAJ&citation_for_view=nh5wa-kAAAAJ:hqOjcs7Dif8C', 'authors': 'G Valente, V Muttillo, L Pomante, F Federici, M Faccio, A Moro, S Ferri, ...', 'publication': '2016 24th Euromicro International Conference on Parallel, Distributed, and\\xa0…, 2016'}, {'title': 'SystemC-based electronic system-level design space exploration environment for dedicated heterogeneous multi-processor systems', 'link': 'https://scholar.google.com/citations?view_op=view_citation&hl=it&user=nh5wa-kAAAAJ&citation_for_view=nh5wa-kAAAAJ:hFOr9nPyWt4C', 'authors': 'L Pomante, V Muttillo, M Santic, P Serri', 'publication': 'Microprocessors and microsystems 72, 102898, 2020'}, {'title': 'Aidoart: Ai-augmented automation for devops, a model-based framework for continuous development in cyber-physical systems', 'link': 'https://scholar.google.com/citations?view_op=view_citation&hl=it&user=nh5wa-kAAAAJ&citation_for_view=nh5wa-kAAAAJ:M3NEmzRMIkIC', 'authors': 'R Eramo, V Muttillo, L Berardinelli, H Bruneliere, A Gomez, A Bagnato, ...', 'publication': '2021 24th Euromicro Conference on Digital System Design (DSD), 303-310, 2021'}, {'title': 'The AQUAS ECSEL project aggregated quality assurance for systems: Co-engineering inside and across the product life cycle', 'link': 'https://scholar.google.com/citations?view_op=view_citation&hl=it&user=nh5wa-kAAAAJ&citation_for_view=nh5wa-kAAAAJ:ZeXyd9-uunAC', 'authors': 'L Pomante, V Muttillo, B Křena, T Vojnar, F Veljković, P Magnin, ...', 'publication': 'Microprocessors and Microsystems 69, 54-67, 2019'}, {'title': 'SPOF—Slave Powerlink on FPGA for smart sensors and actuators interfacing for industry 4.0 applications', 'link': 'https://scholar.google.com/citations?view_op=view_citation&hl=it&user=nh5wa-kAAAAJ&citation_for_view=nh5wa-kAAAAJ:L8Ckcad2t8MC', 'authors': 'G Valente, V Muttillo, M Muttillo, G Barile, A Leoni, W Tiberti, L Pomante', 'publication': 'Energies 12 (9), 1633, 2019'}, {'title': 'Hepsycode-RT: A real-time extension for an ESL HW/SW co-design methodology', 'link': 'https://scholar.google.com/citations?view_op=view_citation&hl=it&user=nh5wa-kAAAAJ&citation_for_view=nh5wa-kAAAAJ:qxL8FJ1GzNcC', 'authors': 'V Muttillo, G Valente, D Ciambrone, V Stoico, L Pomante', 'publication': \"Proceedings of the Rapido'18 Workshop on Rapid Simulation and Performance\\xa0…, 2018\"}, {'title': 'Cc4cs: An off-the-shelf unifying statement-level performance metric for hw/sw technologies', 'link': 'https://scholar.google.com/citations?view_op=view_citation&hl=it&user=nh5wa-kAAAAJ&citation_for_view=nh5wa-kAAAAJ:M3ejUd6NZC8C', 'authors': \"V Muttillo, G Valente, L Pomante, V Stoico, F D'Antonio, F Salice\", 'publication': 'Companion of the 2018 ACM/SPEC International Conference on Performance\\xa0…, 2018'}, {'title': 'Design space exploration for mixed-criticality embedded systems considering hypervisor-based sw partitions', 'link': 'https://scholar.google.com/citations?view_op=view_citation&hl=it&user=nh5wa-kAAAAJ&citation_for_view=nh5wa-kAAAAJ:dhFuZR0502QC', 'authors': 'V Muttillo, G Valente, L Pomante', 'publication': '2018 21st Euromicro Conference on Digital System Design (DSD), 740-744, 2018'}, {'title': 'An Efficient Performance-Driven Approach for HW/SW Co-Design', 'link': 'https://scholar.google.com/citations?view_op=view_citation&hl=it&user=nh5wa-kAAAAJ&citation_for_view=nh5wa-kAAAAJ:ULOm3_A8WrAC', 'authors': 'D Di Pompeo, E Incerto, V Muttillo, L Pomante, G Valenete', 'publication': 'Proceedings of the 8th ACM/SPEC on International Conference on Performance\\xa0…, 2017'}, {'title': 'Benchmarking analysis and characterization of hypervisors for space multicore systems', 'link': 'https://scholar.google.com/citations?view_op=view_citation&hl=it&user=nh5wa-kAAAAJ&citation_for_view=nh5wa-kAAAAJ:mB3voiENLucC', 'authors': 'V Muttillo, L Tiberi, L Pomante, P Serri', 'publication': 'Journal of Aerospace Information Systems 16 (11), 500-511, 2019'}, {'title': 'A design methodology for soft-core platforms on FPGA with SMP Linux, OpenMP support, and distributed hardware profiling system', 'link': 'https://scholar.google.com/citations?view_op=view_citation&hl=it&user=nh5wa-kAAAAJ&citation_for_view=nh5wa-kAAAAJ:3fE2CSJIrl8C', 'authors': 'V Muttillo, G Valente, F Federici, L Pomante, M Faccio, C Tieri, S Ferri', 'publication': 'EURASIP Journal on Embedded Systems 2016, 1-14, 2017'}, {'title': 'HEPSIM: An ESL HW/SW co-simulator/analysis tool for heterogeneous parallel embedded systems', 'link': 'https://scholar.google.com/citations?view_op=view_citation&hl=it&user=nh5wa-kAAAAJ&citation_for_view=nh5wa-kAAAAJ:QIV2ME_5wuYC', 'authors': 'D Ciambrone, V Muttillo, L Pomante, G Valente', 'publication': '2018 7th Mediterranean Conference on Embedded Computing (MECO), 1-6, 2018'}, {'title': 'Criticality-aware Design Space Exploration for Mixed-Criticality Embedded Systems', 'link': 'https://scholar.google.com/citations?view_op=view_citation&hl=it&user=nh5wa-kAAAAJ&citation_for_view=nh5wa-kAAAAJ:4TOpqqG69KYC', 'authors': 'V Muttillo, G Valente, L Pomante', 'publication': 'Companion of the 2018 ACM/SPEC International Conference on Performance\\xa0…, 2018'}, {'title': 'SystemC-based Co-Simulation/Analysis for System-Level Hardware/Software Co-Design', 'link': 'https://scholar.google.com/citations?view_op=view_citation&hl=it&user=nh5wa-kAAAAJ&citation_for_view=nh5wa-kAAAAJ:NMxIlDl6LWMC', 'authors': 'V Muttillo, L Pomante, M Santic, G Valente', 'publication': 'Computers and Electrical Engineering 110, 108803, 2023'}, {'title': 'HW/SW co-design framework for mixed-criticality embedded systems considering Xtratum-Based SW partitions', 'link': 'https://scholar.google.com/citations?view_op=view_citation&hl=it&user=nh5wa-kAAAAJ&citation_for_view=nh5wa-kAAAAJ:TQgYirikUcIC', 'authors': 'V Muttillo, L Pomante, P Balbastre, J Simo, A Crespo', 'publication': '2019 22nd Euromicro Conference on Digital System Design (DSD), 554-561, 2019'}, {'title': 'Criticality-driven design space exploration for mixed-criticality heterogeneous parallel embedded systems', 'link': 'https://scholar.google.com/citations?view_op=view_citation&hl=it&user=nh5wa-kAAAAJ&citation_for_view=nh5wa-kAAAAJ:_kc_bZDykSQC', 'authors': 'V Muttillo, G Valente, L Pomante', 'publication': 'Proceedings of the 9th Workshop and 7th Workshop on Parallel Programming and\\xa0…, 2018'}, {'title': 'A Lightweight, Hardware-Based Support for Isolation in Mixed-Criticality Network-on-Chip Architectures', 'link': 'https://scholar.google.com/citations?view_op=view_citation&hl=it&user=nh5wa-kAAAAJ&citation_for_view=nh5wa-kAAAAJ:qUcmZB5y_30C', 'authors': 'G Valente, P Giammatteo, V Muttillo, L Pomante, T Di Mascio'}, {'title': 'J4CS: An early-stage statement-level metric for energy consumption of embedded SW', 'link': 'https://scholar.google.com/citations?view_op=view_citation&hl=it&user=nh5wa-kAAAAJ&citation_for_view=nh5wa-kAAAAJ:IWHjjKOFINEC', 'authors': 'V Muttillo', 'publication': '2019 8th Mediterranean Conference on Embedded Computing (MECO), 1-5, 2019'}]\n",
      "[{'citations': {'all': '328', 'since_2017': '274'}}, {'h_index': {'all': '11', 'since_2017': '10'}}, {'i_index': {'all': '13', 'since_2017': '11'}}]\n"
     ]
    }
   ],
   "source": [
    "import requests\n",
    "from bs4 import BeautifulSoup\n",
    "\n",
    "def getAuthorProfileData():\n",
    "    try:\n",
    "        url = \"https://scholar.google.com/citations?user=nh5wa-kAAAAJ&hl=it\"\n",
    "        headers = {\n",
    "            \"User-Agent\": \"Mozilla/5.0 (Windows NT 10.0; WOW64) AppleWebKit/537.36 (KHTML, like Gecko) Chrome/104.0.0.0 Safari/537.36\"\n",
    "        }\n",
    "        response = requests.get(url, headers=headers)\n",
    "        soup = BeautifulSoup(response.text, 'html.parser')\n",
    "        author_results = {}\n",
    "        articles = []\n",
    "        author_results['name'] = soup.select_one(\"#gsc_prf_in\").text\n",
    "        author_results['position'] = soup.select_one(\"#gsc_prf_inw+ .gsc_prf_il\").text\n",
    "        author_results['email'] = soup.select_one(\"#gsc_prf_ivh\").text\n",
    "        author_results['departments'] = soup.select_one(\"#gsc_prf_int\").text\n",
    "        for el in soup.select(\"#gsc_a_b .gsc_a_t\"):\n",
    "            article = {\n",
    "                'title': el.select_one(\".gsc_a_at\").text,\n",
    "                'link': \"https://scholar.google.com\" + el.select_one(\".gsc_a_at\")['href'],\n",
    "                'authors': el.select_one(\".gsc_a_at+ .gs_gray\").text,\n",
    "                'publication': el.select_one(\".gs_gray+ .gs_gray\").text\n",
    "            }\n",
    "            articles.append(article)\n",
    "        for i in range(len(articles)):\n",
    "            articles[i] = {k: v for k, v in articles[i].items() if v and v != \"\"}\n",
    "        cited_by = {}\n",
    "        cited_by['table'] = []\n",
    "        cited_by['table'].append({})\n",
    "        cited_by['table'][0]['citations'] = {}\n",
    "        cited_by['table'][0]['citations']['all'] = soup.select_one(\"tr:nth-child(1) .gsc_rsb_sc1+ .gsc_rsb_std\").text\n",
    "        cited_by['table'][0]['citations']['since_2017'] = soup.select_one(\"tr:nth-child(1) .gsc_rsb_std+ .gsc_rsb_std\").text\n",
    "        cited_by['table'].append({})\n",
    "        cited_by['table'][1]['h_index'] = {}\n",
    "        cited_by['table'][1]['h_index']['all'] = soup.select_one(\"tr:nth-child(2) .gsc_rsb_sc1+ .gsc_rsb_std\").text\n",
    "        cited_by['table'][1]['h_index']['since_2017'] = soup.select_one(\"tr:nth-child(2) .gsc_rsb_std+ .gsc_rsb_std\").text\n",
    "        cited_by['table'].append({})\n",
    "        cited_by['table'][2]['i_index'] = {}\n",
    "        cited_by['table'][2]['i_index']['all'] = soup.select_one(\"tr~ tr+ tr .gsc_rsb_sc1+ .gsc_rsb_std\").text\n",
    "        cited_by['table'][2]['i_index']['since_2017'] = soup.select_one(\"tr~ tr+ tr .gsc_rsb_std+ .gsc_rsb_std\").text\n",
    "        print(author_results)\n",
    "        print(articles)\n",
    "        print(cited_by['table'])\n",
    "    except Exception as e:\n",
    "        print(e)\n",
    "\n",
    "getAuthorProfileData()"
   ]
  },
  {
   "cell_type": "markdown",
   "id": "d069c36c",
   "metadata": {},
   "source": [
    "# Imports Selected Studies"
   ]
  },
  {
   "cell_type": "code",
   "execution_count": 9,
   "id": "b69596f6",
   "metadata": {},
   "outputs": [],
   "source": [
    "# Import other libraries\n",
    "import os\n",
    "import sys\n",
    "import numpy as np\n",
    "import pandas as pd\n",
    "import matplotlib.pyplot as plt\n",
    "import seaborn as sbs\n",
    "import re\n",
    "\n",
    "# Options for plots\n",
    "plt.rcParams['figure.figsize'] = (10, 6)\n",
    "sbs.set('paper')\n",
    "\n",
    "# Import litstudy\n",
    "path = os.path.abspath(os.path.join('..'))\n",
    "if path not in sys.path:\n",
    "    sys.path.append(path)\n",
    "\n",
    "import litstudy"
   ]
  },
  {
   "cell_type": "code",
   "execution_count": 10,
   "id": "d2b3e4e4",
   "metadata": {},
   "outputs": [
    {
     "name": "stdout",
     "output_type": "stream",
     "text": [
      "SOTA_SECO_CPS_2024-11-29_11-19-5\n"
     ]
    }
   ],
   "source": [
    "from datetime import datetime\n",
    "\n",
    "currentDateAndTime = datetime.now()\n",
    "filename = (f'SOTA_SECO_CPS_{currentDateAndTime.year}-{currentDateAndTime.month}-{currentDateAndTime.day}'\n",
    "            f'_{currentDateAndTime.hour}-{currentDateAndTime.minute}-{currentDateAndTime.second}')\n",
    "filename_xlsx = (f'SOTA_SECO_CPS_{currentDateAndTime.year}-{currentDateAndTime.month}-{currentDateAndTime.day}'\n",
    "            f'_{currentDateAndTime.hour}-{currentDateAndTime.minute}-{currentDateAndTime.second}.xlsx')\n",
    "\n",
    "print(filename)"
   ]
  },
  {
   "cell_type": "code",
   "execution_count": 11,
   "id": "91242abb",
   "metadata": {},
   "outputs": [
    {
     "name": "stdout",
     "output_type": "stream",
     "text": [
      "35 papers loaded from selected papers list\n"
     ]
    }
   ],
   "source": [
    "############################## LOAD Cleaned papers ###################################\n",
    "\n",
    "# with open('AAA/studies.txt', 'r') as file:\n",
    "#     data = file.read().splitlines()\n",
    "#     print(data)\n",
    "    \n",
    "# Load csv file\n",
    "docs_bib = litstudy.load_scopus_csv('Snowballed_forward_filtered.csv')\n",
    "print(len(docs_bib), 'papers loaded from selected papers list')"
   ]
  },
  {
   "cell_type": "code",
   "execution_count": 12,
   "id": "fcdb3bd4",
   "metadata": {},
   "outputs": [
    {
     "name": "stderr",
     "output_type": "stream",
     "text": [
      " 54%|█████▍    | 19/35 [00:09<00:09,  1.73it/s]C:\\Users\\vitto\\anaconda3\\lib\\site-packages\\litstudy\\sources\\scopus.py:230: DeprecationWarning: The 'warn' function is deprecated, use 'warning' instead\n",
      "  logging.warn(f\"no document found for DOI {doi}: {e}\")\n",
      "100%|██████████| 35/35 [00:15<00:00,  2.24it/s]\n"
     ]
    }
   ],
   "source": [
    "import logging\n",
    "logging.getLogger().setLevel(logging.CRITICAL)\n",
    "\n",
    "docs_found_scopus, docs_notfound_scopus = litstudy.refine_scopus(docs_bib)"
   ]
  },
  {
   "cell_type": "code",
   "execution_count": 13,
   "id": "3079102a",
   "metadata": {},
   "outputs": [
    {
     "name": "stdout",
     "output_type": "stream",
     "text": [
      "33 papers found on Scopus\n",
      "2 papers were not found\n"
     ]
    },
    {
     "data": {
      "text/plain": [
       "35"
      ]
     },
     "execution_count": 13,
     "metadata": {},
     "output_type": "execute_result"
    }
   ],
   "source": [
    "print(len(docs_found_scopus), 'papers found on Scopus')\n",
    "print(len(docs_notfound_scopus), 'papers were not found')\n",
    "docs_bib_scopus = docs_found_scopus | docs_notfound_scopus\n",
    "len(docs_bib_scopus)"
   ]
  },
  {
   "cell_type": "code",
   "execution_count": 14,
   "id": "271fcedd",
   "metadata": {},
   "outputs": [],
   "source": [
    "docs_bib = docs_bib_scopus # docs_bib_scopus | docs_bib_SemanticScholar | docs_bib_CrossRef\n",
    "docs_filtered = docs_bib # .filter_docs(lambda d: d.publication_year >= 1990)"
   ]
  },
  {
   "cell_type": "code",
   "execution_count": 15,
   "id": "6aaf4333",
   "metadata": {},
   "outputs": [
    {
     "name": "stdout",
     "output_type": "stream",
     "text": [
      "10.1145/3631976\n",
      "10.1016/j.buildenv.2023.110788\n",
      "10.3390/computers13040100\n",
      "10.3390/buildings13061426\n",
      "10.1016/j.enbenv.2023.05.004\n",
      "10.3390/smartcities7050101\n",
      "10.1061/JITSE4.ISENG-2323\n",
      "10.1016/j.jobe.2023.106704\n",
      "10.1109/ICECET61485.2024.10698251\n",
      "10.3390/buildings12101503\n",
      "10.1016/j.compstruc.2024.107342\n",
      "10.3390/buildings14082349\n",
      "10.1016/j.compind.2024.104181\n",
      "10.3390/buildings12112029\n",
      "10.1016/j.jobe.2024.111150\n",
      "10.3390/su151310462\n",
      "10.1109/ICISS59129.2023.10291219\n",
      "10.3390/s24186069\n",
      "10.3390/app14030977\n",
      "10.1109/ICSA56044.2023.00015\n",
      "10.1186/s42492-023-00137-4\n",
      "10.1016/j.jnca.2024.103857\n",
      "10.1109/ACCESS.2022.3218010\n",
      "10.1109/TTE.2021.3104105\n",
      "10.1016/j.energy.2023.127086\n",
      "10.1016/j.egyr.2022.02.305\n",
      "10.1007/s11241-021-09376-1\n",
      "10.1109/DSD57027.2022.00090\n",
      "10.1017/pds.2022.132\n",
      "10.1080/21681015.2024.2405100\n",
      "10.3390/en17071571\n",
      "10.3390/s22010196\n",
      "10.1186/s13677-022-00367-6\n",
      "10.1007/s44212-024-00060-w\n",
      "10.3390/s24227209\n"
     ]
    }
   ],
   "source": [
    "index = 0\n",
    "data = []\n",
    "while index < len(docs_filtered):\n",
    "    # re.sub('[<\\[\\]>]', '', str(docs_filtered[index].authors))\n",
    "\n",
    "    authorList = []\n",
    "    for author in docs_filtered[index].authors or []:\n",
    "        authorList.append(author.name)\n",
    "\n",
    "    if type(docs_filtered[index].id.doi) == type(None):\n",
    "        print(docs_filtered[index].title)\n",
    "        doi_paper = ''\n",
    "        doi_paper_custom = ''\n",
    "        # print(doi_paper)\n",
    "    else:\n",
    "        doi_paper = str(docs_filtered[index].id.doi) # 'https://www.doi.org/' + \n",
    "        doi_paper_custom = 'https://www.doi.org/' + str(docs_filtered[index].id.doi)\n",
    "        print(doi_paper)\n",
    "\n",
    "    data.append({'Authors': '', 'Author full names': re.sub(r'[\\[\\'\\]]', '', str(authorList)), 'Author(s) ID': '', \n",
    "    'Title': docs_filtered[index].title, 'Year': docs_filtered[index].publication_year, 'Source title': docs_filtered[index].publication_source, \n",
    "    'Volume': '', 'Issue': '', 'Art. No.': '', 'Page start': '', 'Page end': '', 'Page count': '', 'Cited by': docs_filtered[index].citation_count, \n",
    "    'DOI': doi_paper, 'Link': doi_paper_custom,  'Affiliations': re.sub(r'[\\[\\'\\]]', '', str(docs_filtered[index].affiliations)), \n",
    "    'Authors with affiliations': '', 'Abstract': docs_filtered[index].abstract, 'Author Keywords': re.sub(r'[\\[\\'\\]]', '', str(docs_filtered[index].keywords)), \n",
    "    'Index Keywords': '', 'Molecular Sequence Numbers': '',  'Chemicals/CAS': '', 'Tradenames': '', 'Manufacturers': '', \n",
    "    'Funding Details': '', 'Funding Texts': '', 'References': re.sub(r'[\\[\\'\\]]', '', str(docs_filtered[index].references)), 'Correspondence Address': '', 'Editors': '', 'Publisher': docs_filtered[index].publisher, \n",
    "    'Sponsors': '', 'Conference name': '', 'Conference date': str(docs_filtered[index].publication_date), 'Conference location': '', 'Conference code': '', 'ISSN': '', \n",
    "    'ISBN': '', 'CODEN': '', 'PubMed ID': docs_filtered[index].id.pubmed, 'Language of Original Document': docs_filtered[index].language, 'Abbreviated Source Title': '', 'Document Type': docs_filtered[index].source_type, \n",
    "    'Publication Stage': '', 'Open Access': '', 'Source': '', 'EID': docs_filtered[index].id.scopusid})\n",
    "    \n",
    "    index += 1\n",
    "\n",
    "# Saving first group of data to a single excel file\n",
    "df = pd.DataFrame(data, columns=['Authors', 'Author full names', 'Author(s) ID', \n",
    "    'Title', 'Year', 'Source title', \n",
    "    'Volume', 'Issue', 'Art. No.', 'Page start', 'Page end', 'Page count', 'Cited by', \n",
    "    'DOI', 'Link',  'Affiliations', 'Authors with affiliations', 'Abstract', 'Author Keywords', \n",
    "    'Index Keywords', 'Molecular Sequence Numbers',  'Chemicals/CAS', 'Tradenames', 'Manufacturers', \n",
    "    'Funding Details', 'Funding Texts', 'References', 'Correspondence Address', 'Editors', 'Publisher', \n",
    "    'Sponsors', 'Conference name', 'Conference date', 'Conference location', 'Conference code', 'ISSN', \n",
    "    'ISBN', 'CODEN', 'PubMed ID', 'Language of Original Document', 'Abbreviated Source Title', 'Document Type', \n",
    "    'Publication Stage', 'Open Access', 'Source', 'EID'])\n",
    "\n",
    "# Saving first group of data to a single csv file\n",
    "df.to_csv('Results/Snowballed_forward_' + filename + '.csv')\n",
    "\n",
    "# Saving first group of data to a single excel file\n",
    "df.to_excel('Results/Snowballed_forward_' + filename_xlsx, index=False)"
   ]
  },
  {
   "cell_type": "code",
   "execution_count": null,
   "id": "41c4bbfe",
   "metadata": {},
   "outputs": [],
   "source": []
  }
 ],
 "metadata": {
  "kernelspec": {
   "display_name": "Python 3 (ipykernel)",
   "language": "python",
   "name": "python3"
  },
  "language_info": {
   "codemirror_mode": {
    "name": "ipython",
    "version": 3
   },
   "file_extension": ".py",
   "mimetype": "text/x-python",
   "name": "python",
   "nbconvert_exporter": "python",
   "pygments_lexer": "ipython3",
   "version": "3.9.19"
  }
 },
 "nbformat": 4,
 "nbformat_minor": 5
}
