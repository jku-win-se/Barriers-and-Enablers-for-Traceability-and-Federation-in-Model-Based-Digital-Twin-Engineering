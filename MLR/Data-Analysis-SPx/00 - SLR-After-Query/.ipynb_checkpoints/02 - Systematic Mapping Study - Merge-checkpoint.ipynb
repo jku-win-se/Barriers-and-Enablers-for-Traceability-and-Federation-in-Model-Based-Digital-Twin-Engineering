{
 "cells": [
  {
   "cell_type": "code",
   "execution_count": 1,
   "id": "8de7b70f",
   "metadata": {},
   "outputs": [],
   "source": [
    "# Import other libraries\n",
    "import os\n",
    "import sys\n",
    "import numpy as np\n",
    "import pandas as pd\n",
    "import matplotlib.pyplot as plt\n",
    "import seaborn as sbs\n",
    "import re\n",
    "from datetime import datetime\n",
    "import networkx as nx\n",
    "\n",
    "import logging\n",
    "logging.getLogger().setLevel(logging.CRITICAL)\n",
    "\n",
    "# Options for plots\n",
    "plt.rcParams['figure.figsize'] = (10, 6)\n",
    "sbs.set('paper')\n",
    "\n",
    "# Import litstudy\n",
    "path = os.path.abspath(os.path.join('..'))\n",
    "if path not in sys.path:\n",
    "    sys.path.append(path)\n",
    "\n",
    "import litstudy"
   ]
  },
  {
   "cell_type": "code",
   "execution_count": 4,
   "id": "e8636a68",
   "metadata": {},
   "outputs": [
    {
     "name": "stdout",
     "output_type": "stream",
     "text": [
      "133 papers loaded from BibTex\n"
     ]
    }
   ],
   "source": [
    "############################## EXTRACT DOI ###################################\n",
    "\n",
    "# Load BibTex file from SCOPUS\n",
    "docs_bib_scopus = litstudy.load_bibtex('data/scopus.bib')\n",
    "print(len(docs_bib_scopus), 'papers loaded from BibTex')"
   ]
  },
  {
   "cell_type": "code",
   "execution_count": null,
   "id": "fa3e2529",
   "metadata": {},
   "outputs": [],
   "source": []
  },
  {
   "cell_type": "code",
   "execution_count": 10,
   "id": "c511a48f",
   "metadata": {},
   "outputs": [
    {
     "name": "stderr",
     "output_type": "stream",
     "text": [
      " 33%|███▎      | 44/133 [00:11<00:22,  3.99it/s]\n"
     ]
    },
    {
     "ename": "Scopus400Error",
     "evalue": "Exceeds the maximum number allowed for the service level",
     "output_type": "error",
     "traceback": [
      "\u001b[1;31m---------------------------------------------------------------------------\u001b[0m",
      "\u001b[1;31mScopus400Error\u001b[0m                            Traceback (most recent call last)",
      "Cell \u001b[1;32mIn[10], line 5\u001b[0m\n\u001b[0;32m      2\u001b[0m \u001b[38;5;28;01mimport\u001b[39;00m \u001b[38;5;21;01mlogging\u001b[39;00m\n\u001b[0;32m      3\u001b[0m logging\u001b[38;5;241m.\u001b[39mgetLogger()\u001b[38;5;241m.\u001b[39msetLevel(logging\u001b[38;5;241m.\u001b[39mCRITICAL)\n\u001b[1;32m----> 5\u001b[0m docs_found_scopus_rw, docs_notfound_scopus_rw \u001b[38;5;241m=\u001b[39m \u001b[43mlitstudy\u001b[49m\u001b[38;5;241;43m.\u001b[39;49m\u001b[43mrefine_scopus\u001b[49m\u001b[43m(\u001b[49m\u001b[43mdocs_bib_scopus\u001b[49m\u001b[43m,\u001b[49m\u001b[43m \u001b[49m\u001b[43msearch_title\u001b[49m\u001b[38;5;241;43m=\u001b[39;49m\u001b[38;5;28;43;01mTrue\u001b[39;49;00m\u001b[43m)\u001b[49m\n\u001b[0;32m      7\u001b[0m \u001b[38;5;28mprint\u001b[39m(\u001b[38;5;28mlen\u001b[39m(docs_found_scopus_rw), \u001b[38;5;124m'\u001b[39m\u001b[38;5;124mpapers found on Scopus\u001b[39m\u001b[38;5;124m'\u001b[39m)\n\u001b[0;32m      8\u001b[0m \u001b[38;5;28mprint\u001b[39m(\u001b[38;5;28mlen\u001b[39m(docs_notfound_scopus_rw), \u001b[38;5;124m'\u001b[39m\u001b[38;5;124mpapers were not found\u001b[39m\u001b[38;5;124m'\u001b[39m)\n",
      "File \u001b[1;32m~\\anaconda3\\lib\\site-packages\\litstudy\\sources\\scopus.py:248\u001b[0m, in \u001b[0;36mrefine_scopus\u001b[1;34m(docs, search_title)\u001b[0m\n\u001b[0;32m    244\u001b[0m                     \u001b[38;5;28;01mreturn\u001b[39;00m ScopusDocument\u001b[38;5;241m.\u001b[39mfrom_eid(record\u001b[38;5;241m.\u001b[39meid)\n\u001b[0;32m    246\u001b[0m     \u001b[38;5;28;01mreturn\u001b[39;00m \u001b[38;5;28;01mNone\u001b[39;00m\n\u001b[1;32m--> 248\u001b[0m \u001b[38;5;28;01mreturn\u001b[39;00m \u001b[43mdocs\u001b[49m\u001b[38;5;241;43m.\u001b[39;49m\u001b[43m_refine_docs\u001b[49m\u001b[43m(\u001b[49m\u001b[43mcallback\u001b[49m\u001b[43m)\u001b[49m\n",
      "File \u001b[1;32m~\\anaconda3\\lib\\site-packages\\litstudy\\types.py:53\u001b[0m, in \u001b[0;36mDocumentSet._refine_docs\u001b[1;34m(self, callback)\u001b[0m\n\u001b[0;32m     50\u001b[0m old_docs \u001b[38;5;241m=\u001b[39m []\n\u001b[0;32m     52\u001b[0m \u001b[38;5;28;01mfor\u001b[39;00m i, doc \u001b[38;5;129;01min\u001b[39;00m \u001b[38;5;28menumerate\u001b[39m(progress_bar(\u001b[38;5;28mself\u001b[39m\u001b[38;5;241m.\u001b[39mdocs)):\n\u001b[1;32m---> 53\u001b[0m     new_doc \u001b[38;5;241m=\u001b[39m \u001b[43mcallback\u001b[49m\u001b[43m(\u001b[49m\u001b[43mdoc\u001b[49m\u001b[43m)\u001b[49m\n\u001b[0;32m     55\u001b[0m     \u001b[38;5;28;01mif\u001b[39;00m new_doc \u001b[38;5;129;01mis\u001b[39;00m \u001b[38;5;129;01mnot\u001b[39;00m \u001b[38;5;28;01mNone\u001b[39;00m:\n\u001b[0;32m     56\u001b[0m         new_indices\u001b[38;5;241m.\u001b[39mappend(i)\n",
      "File \u001b[1;32m~\\anaconda3\\lib\\site-packages\\litstudy\\sources\\scopus.py:236\u001b[0m, in \u001b[0;36mrefine_scopus.<locals>.callback\u001b[1;34m(doc)\u001b[0m\n\u001b[0;32m    234\u001b[0m \u001b[38;5;28;01mif\u001b[39;00m \u001b[38;5;28mlen\u001b[39m(title) \u001b[38;5;241m>\u001b[39m \u001b[38;5;241m10\u001b[39m \u001b[38;5;129;01mand\u001b[39;00m search_title:\n\u001b[0;32m    235\u001b[0m     query \u001b[38;5;241m=\u001b[39m \u001b[38;5;124mf\u001b[39m\u001b[38;5;124m\"\u001b[39m\u001b[38;5;124mTITLE(\u001b[39m\u001b[38;5;132;01m{\u001b[39;00mtitle\u001b[38;5;132;01m}\u001b[39;00m\u001b[38;5;124m)\u001b[39m\u001b[38;5;124m\"\u001b[39m\n\u001b[1;32m--> 236\u001b[0m     response \u001b[38;5;241m=\u001b[39m \u001b[43mScopusSearch\u001b[49m\u001b[43m(\u001b[49m\u001b[43mquery\u001b[49m\u001b[43m,\u001b[49m\u001b[43m \u001b[49m\u001b[43mview\u001b[49m\u001b[38;5;241;43m=\u001b[39;49m\u001b[38;5;124;43m\"\u001b[39;49m\u001b[38;5;124;43mSTANDARD\u001b[39;49m\u001b[38;5;124;43m\"\u001b[39;49m\u001b[43m,\u001b[49m\u001b[43m \u001b[49m\u001b[43mdownload\u001b[49m\u001b[38;5;241;43m=\u001b[39;49m\u001b[38;5;28;43;01mFalse\u001b[39;49;00m\u001b[43m)\u001b[49m\n\u001b[0;32m    237\u001b[0m     nresults \u001b[38;5;241m=\u001b[39m response\u001b[38;5;241m.\u001b[39mget_results_size()\n\u001b[0;32m    239\u001b[0m     \u001b[38;5;28;01mif\u001b[39;00m nresults \u001b[38;5;241m>\u001b[39m \u001b[38;5;241m0\u001b[39m \u001b[38;5;129;01mand\u001b[39;00m nresults \u001b[38;5;241m<\u001b[39m \u001b[38;5;241m10\u001b[39m:\n",
      "File \u001b[1;32m~\\anaconda3\\lib\\site-packages\\pybliometrics\\scopus\\scopus_search.py:206\u001b[0m, in \u001b[0;36mScopusSearch.__init__\u001b[1;34m(self, query, refresh, view, verbose, download, integrity_fields, integrity_action, subscriber, **kwds)\u001b[0m\n\u001b[0;32m    204\u001b[0m \u001b[38;5;28mself\u001b[39m\u001b[38;5;241m.\u001b[39m_query \u001b[38;5;241m=\u001b[39m query\n\u001b[0;32m    205\u001b[0m \u001b[38;5;28mself\u001b[39m\u001b[38;5;241m.\u001b[39m_view \u001b[38;5;241m=\u001b[39m view\n\u001b[1;32m--> 206\u001b[0m Search\u001b[38;5;241m.\u001b[39m\u001b[38;5;21m__init__\u001b[39m(\u001b[38;5;28mself\u001b[39m, query\u001b[38;5;241m=\u001b[39mquery, api\u001b[38;5;241m=\u001b[39m\u001b[38;5;124m'\u001b[39m\u001b[38;5;124mScopusSearch\u001b[39m\u001b[38;5;124m'\u001b[39m, count\u001b[38;5;241m=\u001b[39mcount,\n\u001b[0;32m    207\u001b[0m                 cursor\u001b[38;5;241m=\u001b[39msubscriber, download\u001b[38;5;241m=\u001b[39mdownload,\n\u001b[0;32m    208\u001b[0m                 verbose\u001b[38;5;241m=\u001b[39mverbose, \u001b[38;5;241m*\u001b[39m\u001b[38;5;241m*\u001b[39mkwds)\n",
      "File \u001b[1;32m~\\anaconda3\\lib\\site-packages\\pybliometrics\\scopus\\superclasses\\search.py:62\u001b[0m, in \u001b[0;36mSearch.__init__\u001b[1;34m(self, query, api, count, cursor, download, verbose, **kwds)\u001b[0m\n\u001b[0;32m     59\u001b[0m \u001b[38;5;28mself\u001b[39m\u001b[38;5;241m.\u001b[39m_cache_file_path \u001b[38;5;241m=\u001b[39m get_folder(api, \u001b[38;5;28mself\u001b[39m\u001b[38;5;241m.\u001b[39m_view)\u001b[38;5;241m/\u001b[39mstem\n\u001b[0;32m     61\u001b[0m \u001b[38;5;66;03m# Init\u001b[39;00m\n\u001b[1;32m---> 62\u001b[0m \u001b[43mBase\u001b[49m\u001b[38;5;241;43m.\u001b[39;49m\u001b[38;5;21;43m__init__\u001b[39;49m\u001b[43m(\u001b[49m\u001b[38;5;28;43mself\u001b[39;49m\u001b[43m,\u001b[49m\u001b[43m \u001b[49m\u001b[43mparams\u001b[49m\u001b[38;5;241;43m=\u001b[39;49m\u001b[43mparams\u001b[49m\u001b[43m,\u001b[49m\u001b[43m \u001b[49m\u001b[43murl\u001b[49m\u001b[38;5;241;43m=\u001b[39;49m\u001b[43mURLS\u001b[49m\u001b[43m[\u001b[49m\u001b[43mapi\u001b[49m\u001b[43m]\u001b[49m\u001b[43m,\u001b[49m\u001b[43m \u001b[49m\u001b[43mdownload\u001b[49m\u001b[38;5;241;43m=\u001b[39;49m\u001b[43mdownload\u001b[49m\u001b[43m,\u001b[49m\n\u001b[0;32m     63\u001b[0m \u001b[43m              \u001b[49m\u001b[43mapi\u001b[49m\u001b[38;5;241;43m=\u001b[39;49m\u001b[43mapi\u001b[49m\u001b[43m,\u001b[49m\u001b[43m \u001b[49m\u001b[43mverbose\u001b[49m\u001b[38;5;241;43m=\u001b[39;49m\u001b[43mverbose\u001b[49m\u001b[43m)\u001b[49m\n",
      "File \u001b[1;32m~\\anaconda3\\lib\\site-packages\\pybliometrics\\scopus\\superclasses\\base.py:66\u001b[0m, in \u001b[0;36mBase.__init__\u001b[1;34m(self, params, url, api, download, verbose, *args, **kwds)\u001b[0m\n\u001b[0;32m     64\u001b[0m         \u001b[38;5;28mself\u001b[39m\u001b[38;5;241m.\u001b[39m_json \u001b[38;5;241m=\u001b[39m loads(fname\u001b[38;5;241m.\u001b[39mread_text())\n\u001b[0;32m     65\u001b[0m \u001b[38;5;28;01melse\u001b[39;00m:\n\u001b[1;32m---> 66\u001b[0m     resp \u001b[38;5;241m=\u001b[39m get_content(url, api, params, \u001b[38;5;241m*\u001b[39margs, \u001b[38;5;241m*\u001b[39m\u001b[38;5;241m*\u001b[39mkwds)\n\u001b[0;32m     67\u001b[0m     header \u001b[38;5;241m=\u001b[39m resp\u001b[38;5;241m.\u001b[39mheaders\n\u001b[0;32m     69\u001b[0m     \u001b[38;5;28;01mif\u001b[39;00m ab_ref_retrieval:\n",
      "File \u001b[1;32m~\\anaconda3\\lib\\site-packages\\pybliometrics\\scopus\\utils\\get_content.py:116\u001b[0m, in \u001b[0;36mget_content\u001b[1;34m(url, api, params, **kwds)\u001b[0m\n\u001b[0;32m    114\u001b[0m         \u001b[38;5;28;01mexcept\u001b[39;00m:\n\u001b[0;32m    115\u001b[0m             reason \u001b[38;5;241m=\u001b[39m \u001b[38;5;124m\"\u001b[39m\u001b[38;5;124m\"\u001b[39m\n\u001b[1;32m--> 116\u001b[0m     \u001b[38;5;28;01mraise\u001b[39;00m errors[resp\u001b[38;5;241m.\u001b[39mstatus_code](reason)\n\u001b[0;32m    117\u001b[0m \u001b[38;5;28;01mexcept\u001b[39;00m \u001b[38;5;167;01mKeyError\u001b[39;00m:\n\u001b[0;32m    118\u001b[0m     resp\u001b[38;5;241m.\u001b[39mraise_for_status()\n",
      "\u001b[1;31mScopus400Error\u001b[0m: Exceeds the maximum number allowed for the service level"
     ]
    }
   ],
   "source": [
    "import litstudy\n",
    "import logging\n",
    "logging.getLogger().setLevel(logging.CRITICAL)\n",
    "\n",
    "docs_found_scopus_rw, docs_notfound_scopus_rw = litstudy.refine_scopus(docs_bib_scopus, search_title=True)\n",
    "\n",
    "print(len(docs_found_scopus_rw), 'papers found on Scopus')\n",
    "print(len(docs_notfound_scopus_rw), 'papers were not found')\n",
    "docs_bib_scopus_rw = docs_found_scopus_rw | docs_notfound_scopus_rw\n",
    "len(docs_bib_scopus_rw)"
   ]
  },
  {
   "cell_type": "code",
   "execution_count": 5,
   "id": "6d042385",
   "metadata": {},
   "outputs": [
    {
     "name": "stdout",
     "output_type": "stream",
     "text": [
      "79 papers loaded from BibTex\n"
     ]
    }
   ],
   "source": [
    "# Load BibTex file from WOS\n",
    "docs_bib_wos = litstudy.load_bibtex('data/wos.bib')\n",
    "print(len(docs_bib_wos), 'papers loaded from BibTex')"
   ]
  },
  {
   "cell_type": "code",
   "execution_count": 6,
   "id": "5f83c973",
   "metadata": {},
   "outputs": [
    {
     "name": "stdout",
     "output_type": "stream",
     "text": [
      "35 papers loaded from BibTex\n"
     ]
    }
   ],
   "source": [
    "# Load BibTex file from IEEE\n",
    "docs_bib_ieee = litstudy.load_bibtex('data/IEEE_2024_10_7_10_54_43.bib')\n",
    "print(len(docs_bib_ieee), 'papers loaded from BibTex')"
   ]
  },
  {
   "cell_type": "code",
   "execution_count": 7,
   "id": "355dbd13",
   "metadata": {},
   "outputs": [
    {
     "name": "stdout",
     "output_type": "stream",
     "text": [
      "18 papers loaded from BibTex\n"
     ]
    }
   ],
   "source": [
    "# Load BibTex file from ACM\n",
    "docs_bib_acm_survey = litstudy.load_bibtex('data/acm_Survey_filtered.bib')\n",
    "print(len(docs_bib_acm_survey), 'papers loaded from BibTex')"
   ]
  },
  {
   "cell_type": "code",
   "execution_count": 8,
   "id": "7ddda435",
   "metadata": {},
   "outputs": [
    {
     "name": "stdout",
     "output_type": "stream",
     "text": [
      "107 papers loaded from BibTex\n"
     ]
    }
   ],
   "source": [
    "# Load BibTex file from ACM (Full)\n",
    "docs_bib_acm_full = litstudy.load_bibtex('data/acm_Research_Article_filtered.bib')\n",
    "print(len(docs_bib_acm_full), 'papers loaded from BibTex')"
   ]
  },
  {
   "cell_type": "code",
   "execution_count": 4,
   "id": "71aed5e0",
   "metadata": {},
   "outputs": [
    {
     "name": "stderr",
     "output_type": "stream",
     "text": [
      "100%|██████████| 33/33 [00:06<00:00,  4.85it/s]"
     ]
    },
    {
     "name": "stdout",
     "output_type": "stream",
     "text": [
      "29 papers found on Scopus\n",
      "4 papers were not found\n"
     ]
    },
    {
     "name": "stderr",
     "output_type": "stream",
     "text": [
      "\n"
     ]
    },
    {
     "data": {
      "text/plain": [
       "33"
      ]
     },
     "execution_count": 4,
     "metadata": {},
     "output_type": "execute_result"
    }
   ],
   "source": [
    "import logging\n",
    "logging.getLogger().setLevel(logging.CRITICAL)\n",
    "\n",
    "docs_found_scopus_rw, docs_notfound_scopus_rw = litstudy.refine_scopus(docs_bib_rw, search_title=True)\n",
    "\n",
    "print(len(docs_found_scopus_rw), 'papers found on Scopus')\n",
    "print(len(docs_notfound_scopus_rw), 'papers were not found')\n",
    "docs_bib_scopus_rw = docs_found_scopus_rw | docs_notfound_scopus_rw\n",
    "len(docs_bib_scopus_rw)"
   ]
  },
  {
   "cell_type": "code",
   "execution_count": 5,
   "id": "d8290e5c",
   "metadata": {},
   "outputs": [
    {
     "name": "stdout",
     "output_type": "stream",
     "text": [
      "64 papers loaded from BibTex\n"
     ]
    }
   ],
   "source": [
    "docs_bib_corpus = litstudy.load_bibtex('data/corpus.bib')\n",
    "print(len(docs_bib_corpus), 'papers loaded from BibTex')"
   ]
  },
  {
   "cell_type": "code",
   "execution_count": 6,
   "id": "010e05a0",
   "metadata": {},
   "outputs": [
    {
     "name": "stderr",
     "output_type": "stream",
     "text": [
      "100%|██████████| 64/64 [00:00<00:00, 65.63it/s]"
     ]
    },
    {
     "name": "stdout",
     "output_type": "stream",
     "text": [
      "62 papers found on Scopus\n",
      "2 papers were not found\n"
     ]
    },
    {
     "name": "stderr",
     "output_type": "stream",
     "text": [
      "\n"
     ]
    },
    {
     "data": {
      "text/plain": [
       "64"
      ]
     },
     "execution_count": 6,
     "metadata": {},
     "output_type": "execute_result"
    }
   ],
   "source": [
    "import logging\n",
    "logging.getLogger().setLevel(logging.CRITICAL)\n",
    "\n",
    "docs_found_scopus_corpus, docs_notfound_scopus_corpus = litstudy.refine_scopus(docs_bib_corpus, search_title=True)\n",
    "\n",
    "print(len(docs_found_scopus_corpus), 'papers found on Scopus')\n",
    "print(len(docs_notfound_scopus_corpus), 'papers were not found')\n",
    "docs_bib_scopus_corpus = docs_found_scopus_corpus | docs_notfound_scopus_corpus\n",
    "len(docs_bib_scopus_corpus)"
   ]
  },
  {
   "cell_type": "code",
   "execution_count": 7,
   "id": "7063e63a",
   "metadata": {},
   "outputs": [
    {
     "name": "stdout",
     "output_type": "stream",
     "text": [
      "319 papers loaded from scopus\n"
     ]
    }
   ],
   "source": [
    "############################## EXTRACT DOI ###################################\n",
    "\n",
    "# with open('AAA/studies.txt', 'r') as file:\n",
    "#     data = file.read().splitlines()\n",
    "#     print(data)\n",
    "    \n",
    "# Load csv file\n",
    "docs_bib_srl = litstudy.load_scopus_csv('Results_SRL_Paper/A_Cross-Domain_Systematic_Mapping_Study_on_Software_Engineering_for_Digital_Twins_SRL_References.csv') #       selected_paper_final_OK\n",
    "print(len(docs_bib_srl), 'papers loaded from scopus')"
   ]
  },
  {
   "cell_type": "code",
   "execution_count": 8,
   "id": "2be168bd",
   "metadata": {},
   "outputs": [
    {
     "name": "stderr",
     "output_type": "stream",
     "text": [
      "100%|██████████| 319/319 [00:02<00:00, 144.93it/s]"
     ]
    },
    {
     "name": "stdout",
     "output_type": "stream",
     "text": [
      "319 papers found on Scopus\n",
      "0 papers were not found\n"
     ]
    },
    {
     "name": "stderr",
     "output_type": "stream",
     "text": [
      "\n"
     ]
    },
    {
     "data": {
      "text/plain": [
       "319"
      ]
     },
     "execution_count": 8,
     "metadata": {},
     "output_type": "execute_result"
    }
   ],
   "source": [
    "import logging\n",
    "logging.getLogger().setLevel(logging.CRITICAL)\n",
    "\n",
    "docs_found_scopus_srl, docs_notfound_scopus_srl = litstudy.refine_scopus(docs_bib_srl, search_title=True)\n",
    "\n",
    "print(len(docs_found_scopus_srl), 'papers found on Scopus')\n",
    "print(len(docs_notfound_scopus_srl), 'papers were not found')\n",
    "docs_bib_scopus_srl = docs_found_scopus_srl | docs_notfound_scopus_srl\n",
    "len(docs_bib_scopus_srl)"
   ]
  },
  {
   "cell_type": "code",
   "execution_count": 9,
   "id": "9b7be5a5",
   "metadata": {},
   "outputs": [],
   "source": [
    "# scopus bibtex file\n",
    "filename = 'corpus'\n",
    "filename_xlsx = 'corpus.xlsx' \n",
    "docs_filtered = docs_bib_scopus_corpus"
   ]
  },
  {
   "cell_type": "code",
   "execution_count": 24,
   "id": "79a5d5d8",
   "metadata": {},
   "outputs": [
    {
     "name": "stdout",
     "output_type": "stream",
     "text": [
      "10.1016/j.rcim.2021.102230\n",
      "10.1007/s00607-020-00841-6\n",
      "10.1109/JPROC.2020.3032444\n",
      "10.1145/3550356.3561550\n",
      "10.1515/auto-2022-0144\n",
      "10.1109/ETFA45728.2021.9613376\n",
      "10.1145/3550356.3561601\n",
      "10.1109/SysEng.2018.8544392\n",
      "10.1109/MODELS-C53483.2021.00120\n",
      "10.1109/SoSE59841.2023.10178517\n",
      "10.1109/MODELS50736.2021.00022\n",
      "10.1145/3239372.3239401\n",
      "10.1145/3550355.3552409\n",
      "10.1109/ICEPDS47235.2020.9249366\n",
      "10.1109/AIEA51086.2020.00067\n",
      "10.1145/3550356.3561606\n",
      "10.1016/j.ifacol.2021.08.158\n",
      "10.1016/j.cola.2022.101117\n",
      "10.1109/ETFA45728.2021.9613172\n",
      "10.18420/modellierung2022-012\n",
      "10.1109/ETFA45728.2021.9613164\n",
      "10.1145/3531056.3542784\n",
      "10.1109/ACCESS.2022.3148708\n",
      "10.1109/IECON48115.2021.9589912\n",
      "10.1016/j.rcim.2023.102595\n",
      "10.1007/978-3-030-49435-3_6\n",
      "10.1145/3365438.3410941\n",
      "10.1007/s10270-020-00851-0\n",
      "10.1007/978-3-031-19762-8_14\n",
      "10.1145/3387940.3392195\n",
      "10.1109/SYNASC57785.2022.00040\n",
      "10.1145/3550356.3561589\n",
      "10.1109/ICPS58381.2023.10128003\n",
      "10.3390/systems11030142\n",
      "10.1007/978-3-031-33080-3_14\n",
      "10.1007/978-3-030-27878-6_5\n",
      "10.1016/j.compind.2022.103631\n",
      "10.1145/3417990.3421438\n",
      "10.1007/978-3-030-62522-1_28\n",
      "10.1007/978-3-031-19762-8_5\n",
      "10.1109/DSInS54396.2021.9670612\n",
      "10.1145/3417990.3421446\n",
      "10.1145/3486609.3487210\n",
      "10.1145/3550356.3563135\n",
      "10.1109/MODELS-C53483.2021.00037\n",
      "10.1109/ICCAR55106.2022.9782651\n",
      "10.3390/fi15020050\n",
      "10.1109/MODELS-C59198.2023.00081\n",
      "10.1109/MODELS-C59198.2023.00083\n",
      "10.1145/3365438.3410952\n",
      "10.1186/s13677-024-00593-0\n",
      "10.1007/s10845-023-02212-2\n",
      "10.1109/IECON51785.2023.10312302\n",
      "10.1109/MS.2023.3319580\n",
      "10.1109/MODELS-C59198.2023.00077\n",
      "10.1109/INDIN51400.2023.10218306\n",
      "10.1002/spe.3311\n",
      "Modeling Urban Digital Twins over the Cloud-to-Thing Continuum\n",
      "10.1109/MODELS-C59198.2023.00079\n",
      "10.1016/j.procs.2023.10.307\n",
      "10.1109/ISCSIC60498.2023.00046\n",
      "10.1109/MODELS-C59198.2023.00080\n",
      "A Model-Driven Approach for Situational Intelligence & Operational Awareness\n",
      "CPSA\\(_\\mboxML\\): a language and code generation framework for\n",
      "digital twin based monitoring of mobile cyber-physical systems\n"
     ]
    }
   ],
   "source": [
    "index = 0\n",
    "data = []\n",
    "while index < len(docs_filtered):\n",
    "    # re.sub('[<\\[\\]>]', '', str(docs_filtered[index].authors))\n",
    "\n",
    "    authorList = []\n",
    "    for author in docs_filtered[index].authors or []:\n",
    "        authorList.append(author.name)\n",
    "\n",
    "    if type(docs_filtered[index].id.doi) == type(None):\n",
    "        print(docs_filtered[index].title)\n",
    "        doi_paper = ''\n",
    "        doi_paper_custom = ''\n",
    "        # print(doi_paper)\n",
    "    else:\n",
    "        doi_paper = str(docs_filtered[index].id.doi) # 'https://www.doi.org/' + \n",
    "        doi_paper_custom = 'https://www.doi.org/' + str(docs_filtered[index].id.doi)\n",
    "        print(doi_paper)\n",
    "\n",
    "    data.append({'Authors': '', 'Author full names': re.sub(r'[\\[\\'\\]]', '', str(authorList)), 'Author(s) ID': '', \n",
    "    'Title': docs_filtered[index].title, 'Year': docs_filtered[index].publication_year, 'Source title': docs_filtered[index].publication_source, \n",
    "    'Volume': '', 'Issue': '', 'Art. No.': '', 'Page start': '', 'Page end': '', 'Page count': '', 'Cited by': docs_filtered[index].citation_count, \n",
    "    'DOI': doi_paper, 'Link': doi_paper_custom,  'Affiliations': re.sub(r'[\\[\\'\\]]', '', str(docs_filtered[index].affiliations)), \n",
    "    'Authors with affiliations': '', 'Abstract': docs_filtered[index].abstract, 'Author Keywords': re.sub(r'[\\[\\'\\]]', '', str(docs_filtered[index].keywords)), \n",
    "    'Index Keywords': '', 'Molecular Sequence Numbers': '',  'Chemicals/CAS': '', 'Tradenames': '', 'Manufacturers': '', \n",
    "    'Funding Details': '', 'Funding Texts': '', 'References': re.sub(r'[\\[\\'\\]]', '', str(docs_filtered[index].references)), 'Correspondence Address': '', 'Editors': '', 'Publisher': docs_filtered[index].publisher, \n",
    "    'Sponsors': '', 'Conference name': '', 'Conference date': str(docs_filtered[index].publication_date), 'Conference location': '', 'Conference code': '', 'ISSN': '', \n",
    "    'ISBN': '', 'CODEN': '', 'PubMed ID': docs_filtered[index].id.pubmed, 'Language of Original Document': docs_filtered[index].language, 'Abbreviated Source Title': '', 'Document Type': docs_filtered[index].source_type, \n",
    "    'Publication Stage': '', 'Open Access': '', 'Source': '', 'EID': docs_filtered[index].id.scopusid})\n",
    "    \n",
    "    index += 1\n",
    "\n",
    "# Saving first group of data to a single excel file\n",
    "df = pd.DataFrame(data, columns=['Authors', 'Author full names', 'Author(s) ID', \n",
    "    'Title', 'Year', 'Source title', \n",
    "    'Volume', 'Issue', 'Art. No.', 'Page start', 'Page end', 'Page count', 'Cited by', \n",
    "    'DOI', 'Link',  'Affiliations', 'Authors with affiliations', 'Abstract', 'Author Keywords', \n",
    "    'Index Keywords', 'Molecular Sequence Numbers',  'Chemicals/CAS', 'Tradenames', 'Manufacturers', \n",
    "    'Funding Details', 'Funding Texts', 'References', 'Correspondence Address', 'Editors', 'Publisher', \n",
    "    'Sponsors', 'Conference name', 'Conference date', 'Conference location', 'Conference code', 'ISSN', \n",
    "    'ISBN', 'CODEN', 'PubMed ID', 'Language of Original Document', 'Abbreviated Source Title', 'Document Type', \n",
    "    'Publication Stage', 'Open Access', 'Source', 'EID'])\n",
    "\n",
    "# Saving first group of data to a single csv file\n",
    "df.to_csv('LUCA/' + filename + '.csv')\n",
    "\n",
    "# Saving first group of data to a single excel file\n",
    "df.to_excel('LUCA/' + filename_xlsx, index=False)"
   ]
  },
  {
   "cell_type": "code",
   "execution_count": 10,
   "id": "6c7a9184",
   "metadata": {},
   "outputs": [
    {
     "name": "stdout",
     "output_type": "stream",
     "text": [
      "452 papers loaded from BibTex\n"
     ]
    }
   ],
   "source": [
    "# TOTAL\n",
    "# Merge all document sets\n",
    "docs_bib = docs_bib_scopus | docs_bib_scopus_srl | docs_bib_scopus_rw | docs_bib_scopus_corpus\n",
    "print(len(docs_bib), 'papers loaded from BibTex')"
   ]
  },
  {
   "cell_type": "code",
   "execution_count": 12,
   "id": "3e09c376",
   "metadata": {},
   "outputs": [],
   "source": [
    "# scopus bibtex file\n",
    "filename = 'total_merged'\n",
    "filename_xlsx = 'total_merged.xlsx' \n",
    "docs_filtered = docs_bib"
   ]
  },
  {
   "cell_type": "code",
   "execution_count": 27,
   "id": "88ef9ccb",
   "metadata": {},
   "outputs": [
    {
     "name": "stdout",
     "output_type": "stream",
     "text": [
      "10.1016/j.cola.2022.101117\n",
      "10.1145/3239372.3239401\n",
      "10.1109/SysEng.2018.8544392\n",
      "10.1007/978-3-030-49435-3_6\n",
      "10.1007/978-3-030-49435-3_6\n",
      "10.1007/978-3-030-01614-2_19\n",
      "10.1016/j.cirpj.2020.02.002\n",
      "10.1016/j.ifacol.2018.08.474\n",
      "10.1016/j.procir.2019.02.125\n",
      "10.1016/j.promfg.2017.07.198\n",
      "10.1007/s10257-018-0376-0\n",
      "10.1016/j.jmsy.2019.10.001\n",
      "10.1016/j.jmsy.2019.10.001\n",
      "10.1109/TII.2018.2873186\n",
      "10.1007/s10270-019-00757-6\n",
      "10.1142/S0219649222500174\n",
      "10.1016/j.eswa.2023.119531\n",
      "10.1007/s10515-022-00337-x\n",
      "10.1145/3502265\n",
      "10.15488/12145\n",
      "10.4018/978-1-7998-5839-3\n",
      "10.20517/ces.2021.06\n",
      "10.4018/9781799869856\n",
      "10.1109/COMST.2023.3347145\n",
      "10.4018/978-1-7998-3850-0\n",
      "10.1109/TIV.2022.3195635\n",
      "10.3390/s22083078\n",
      "10.1108/ECAM-06-2022-0596\n",
      "10.3390/su15032555\n",
      "10.1007/978-3-031-16832-1_4\n",
      "10.1007/978-3-031-31268-7_10\n",
      "10.7250/csimq.2024-38.02\n",
      "10.3390/app132312823\n",
      "10.1007/s11069-021-05190-x\n",
      "10.1109/COMST.2023.3329472\n",
      "10.1016/j.jii.2022.100383\n",
      "10.1016/j.comnet.2024.110350\n",
      "10.3390/en17020436\n",
      "10.1080/0951192X.2021.2022762\n",
      "10.1016/j.aei.2024.102450\n",
      "10.1007/978-3-031-19711-6_1\n",
      "10.1109/ACCESS.2023.3322926\n",
      "10.4018/9798369338162\n",
      "10.4018/979-8-3693-0458-7\n",
      "10.1016/j.enbenv.2023.05.004\n",
      "10.1080/00207543.2020.1859636\n",
      "10.4018/979-8-3693-2691-6\n",
      "10.1007/9783031473166\n",
      "10.4018/979-8-3693-3735-6\n",
      "10.1016/j.comnet.2022.109032\n",
      "10.36680/j.itcon.2024.008\n",
      "10.4018/979-8-3693-1363-3\n",
      "10.3390/su142013534\n",
      "10.1016/j.autcon.2023.104785\n",
      "10.1109/ACCESS.2022.3186353\n",
      "10.1016/j.cola.2022.101121\n",
      "10.1109/TNSE.2023.3243095\n",
      "10.1109/SWC57546.2023.10449254\n",
      "10.3390/en17051227\n",
      "10.23919/JCC.ja.2022-0409\n",
      "10.1007/s00366-021-01450-3\n",
      "10.1109/ACCESS.2023.3294256\n",
      "10.3390/s21196340\n",
      "10.1016/j.procir.2019.03.072\n",
      "10.1063/1.5034337\n",
      "10.1109/ACCESS.2017.2657006\n",
      "10.1109/WEEF-GEDC.2018.8629689\n",
      "10.1515/itit-2017-0038\n",
      "10.3390/electronics8020248\n",
      "10.1080/00207543.2019.1572932\n",
      "10.1007/978-3-030-02203-7_12\n",
      "10.1109/ICARCV.2018.8581126\n",
      "10.1016/j.ifacol.2017.08.902\n",
      "10.1016/j.procir.2018.03.139\n",
      "10.1016/j.ifacol.2018.08.421\n",
      "10.1007/978-981-10-8681-6_18\n",
      "10.1080/17517575.2018.1526324\n",
      "10.1109/IEEM.2018.8607579\n",
      "10.1016/j.ifacol.2018.08.473\n",
      "10.1109/ETFA.2018.8502467\n",
      "10.1016/j.procir.2019.02.087\n",
      "10.1007/978-3-319-99073-6_26\n",
      "10.1109/MED.2018.8443028\n",
      "10.1115/IMECE2017-71405\n",
      "10.4043/27547-ms\n",
      "10.23919/PCICEurope.2018.8491413\n",
      "10.1016/j.promfg.2017.04.039\n",
      "10.4043/29231-ms\n",
      "10.3389/fgene.2018.00031\n",
      "10.1016/j.promfg.2017.07.094\n",
      "10.1016/j.ergon.2019.02.001\n",
      "10.1002/cnm.3180\n",
      "10.1145/3302505.3310085\n",
      "10.1016/j.promfg.2017.07.197\n",
      "10.1109/ICARCV.2018.8580634\n",
      "10.1016/j.oceaneng.2019.05.045\n",
      "10.3233/978-1-61499-898-3-33\n",
      "10.1109/SysEng.2018.8544383\n",
      "10.1109/IS.2018.8710526\n",
      "10.1080/0951192X.2019.1599436\n",
      "10.1109/INDIN.2018.8472083\n",
      "10.2514/6.2019-1715\n",
      "10.1016/j.scriptamat.2016.12.005\n",
      "10.1007/s00170-019-03722-1\n",
      "10.1080/0951192X.2019.1599433\n",
      "10.1007/978-3-030-23162-0_8\n",
      "10.21278/idc.2018.0418\n",
      "10.1007/978-3-030-22479-0_15\n",
      "10.1080/00207543.2019.1566661\n",
      "10.1007/978-3-030-23541-3_1\n",
      "10.1109/TWC.2019.2927312\n",
      "10.1016/j.procir.2018.02.010\n",
      "10.1109/SPEEDAM.2018.8445302\n",
      "10.1016/j.ergon.2019.02.012\n",
      "10.1109/ICIT.2019.8755026\n",
      "10.1145/3264888.3264892\n",
      "10.1145/3198458.3198464\n",
      "10.1109/ICE.2018.8436295\n",
      "10.1109/MMUL.2018.023121167\n",
      "10.1115/IMECE2018-87737\n",
      "10.1007/s00521-018-03969-x\n",
      "10.1115/IMECE2018-87361\n",
      "10.1007/978-3-030-24302-9_52\n",
      "10.1007/978-3-319-95282-6_31\n",
      "10.1109/ICAC.2016.29\n",
      "10.4043/29627-ms\n",
      "10.1017/S089006041900012X\n",
      "10.1115/GT2017-64588\n",
      "10.1007/978-3-030-21503-3_15\n",
      "10.1007/978-3-030-11220-2_9\n",
      "10.1088/1742-6596/1228/1/012031\n",
      "10.1016/j.promfg.2018.10.045\n",
      "10.1109/IEEM.2017.8289898\n",
      "10.1016/j.promfg.2018.06.041\n",
      "10.1007/978-3-030-12346-8_19\n",
      "10.1109/ACCESS.2019.2928141\n",
      "10.1007/s12652-018-0953-6\n",
      "10.1007/s12666-019-01699-9\n",
      "10.1088/1757-899X/483/1/012070\n",
      "10.7148/2019-0284\n",
      "10.1109/CarpathianCC.2019.8765940\n",
      "10.1109/INDIN.2017.8104925\n",
      "10.1016/j.isatra.2019.05.011\n",
      "10.1109/MSP.2018.2842228\n",
      "10.1007/s11837-018-3297-y\n",
      "10.1115/IPC2018-78146\n",
      "10.1016/j.procir.2017.03.312\n",
      "10.1016/j.promfg.2018.07.155\n",
      "10.1016/j.fusengdes.2017.10.012\n",
      "10.1007/s12517-019-4574-y\n",
      "10.1109/M2VIP.2018.8600844\n",
      "10.1109/TPEL.2019.2911594\n",
      "10.2507/29th.daaam.proceedings.093\n",
      "10.2514/6.2019-1365\n",
      "10.1016/j.promfg.2018.07.146\n",
      "10.1109/SYSOSE.2018.8428748\n",
      "10.1007/978-3-030-22636-7_30\n",
      "10.1109/ES2DE.2018.8494231\n",
      "10.1109/BigData.2018.8621972\n",
      "10.1016/j.jclepro.2019.04.156\n",
      "10.3389/fbuil.2018.00077\n",
      "10.1109/IROS.2016.7759171\n",
      "10.1115/1.4042076\n",
      "10.1109/AICCSA.2018.8612796\n",
      "10.1109/IOTAIS.2018.8600830\n",
      "10.1088/1757-899X/450/6/062006\n",
      "10.1109/COASE.2018.8560338\n",
      "10.1061/9780784482445.058\n",
      "10.1007/978-3-319-99229-7_17\n",
      "10.1016/j.actamat.2017.06.039\n",
      "10.1016/j.procir.2017.02.035\n",
      "10.1109/BigData.2018.8622160\n",
      "10.1007/978-3-319-64465-3_6\n",
      "10.1115/GT2017-63336\n",
      "10.2495/DNE-V13-N3-260-271\n",
      "10.1007/s40860-018-0069-y\n",
      "10.1016/j.procir.2018.03.192\n",
      "10.1007/978-3-319-99707-0_41\n",
      "10.1007/978-3-319-60922-5_16\n",
      "10.5604/01.3001.0013.0464\n",
      "10.1109/ICIEAM.2019.8742963\n",
      "10.1109/ACCESS.2019.2897018\n",
      "10.4043/29576-ms\n",
      "10.1016/j.cmpb.2019.01.003\n",
      "10.1016/j.procir.2019.03.278\n",
      "10.24507/icicelb.09.09.931\n",
      "10.1007/s12652-018-0881-5\n",
      "10.2514/6.2017-1566\n",
      "10.1088/1757-899X/324/1/012077\n",
      "10.14488/BJOPM.2019.v16.n2.a8\n",
      "10.1109/IEEM.2018.8607696\n",
      "10.1063/1.5031520\n",
      "10.1016/j.jmsy.2019.04.006\n",
      "10.1007/s12652-018-0944-7\n",
      "10.1080/00207543.2018.1471243\n",
      "10.1109/ACCESS.2019.2909828\n",
      "10.1109/ACCESS.2019.2893309\n",
      "10.1007/s00170-018-2748-5\n",
      "10.1016/j.promfg.2018.06.057\n",
      "10.1016/j.promfg.2018.10.071\n",
      "10.1016/j.arcontrol.2019.01.001\n",
      "10.1016/j.autcon.2019.102837\n",
      "10.1016/j.jmsy.2018.05.003\n",
      "10.1007/s12652-018-0946-5\n",
      "10.7166/29-3-2047\n",
      "10.3390/systems7010007\n",
      "10.1016/j.promfg.2018.10.047\n",
      "10.1016/j.promfg.2018.10.047\n",
      "10.1109/GloSIC.2018.8570162\n",
      "10.1016/j.compind.2019.04.011\n",
      "10.4271/2018-01-0623\n",
      "10.3390/en12122389\n",
      "10.1109/IECON.2018.8591464\n",
      "10.1109/ICARSC.2019.8733657\n",
      "10.1109/THERMINIC.2018.8593318\n",
      "10.2514/6.2018-1367\n",
      "10.1063/1.5099723\n",
      "10.1007/s12008-016-0308-5\n",
      "10.1088/1757-899X/493/1/012128\n",
      "10.3303/CET1867013\n",
      "10.1080/16864360.2018.1462569\n",
      "10.1016/j.ijinfomgt.2019.05.020\n",
      "10.1007/s12008-016-0319-2\n",
      "10.1109/IECON.2018.8591653\n",
      "10.1016/j.apmt.2018.11.003\n",
      "10.1007/978-3-030-23162-0_7\n",
      "10.1051/matecconf/201817201009\n",
      "10.1007/978-3-030-17771-3_16\n",
      "10.1115/IMECE2018-87688\n",
      "10.1080/0951192X.2018.1529430\n",
      "10.1007/978-3-030-24289-3_57\n",
      "10.1016/j.rcim.2018.07.006\n",
      "10.1016/j.ifacol.2018.08.389\n",
      "10.1109/ES.2018.00008\n",
      "10.1109/ICCCBDA.2018.8386518\n",
      "10.1080/0951192X.2019.1599439\n",
      "10.1051/matecconf/201822401033\n",
      "10.5194/ms-10-331-2019\n",
      "10.1016/j.cie.2018.12.047\n",
      "10.1016/j.rcim.2018.11.004\n",
      "10.1109/FMEC.2018.8364060\n",
      "10.1109/MSCPES.2019.8738792\n",
      "10.4043/29316-ms\n",
      "10.2507/28th.daaam.proceedings.074\n",
      "10.1177/0734242x18775487\n",
      "10.3390/en12101909\n",
      "10.1109/EDOCW.2018.00021\n",
      "10.1109/AIM.2018.8452707\n",
      "10.1016/j.procir.2018.03.103\n",
      "10.1016/j.procir.2019.04.049\n",
      "10.1016/j.promfg.2018.10.070\n",
      "10.1109/UCC-Companion.2018.00039\n",
      "10.1109/ICE.2018.8436377\n",
      "10.5604/01.3001.0013.0456\n",
      "10.1007/978-3-030-03003-2_32\n",
      "10.4043/28012-ms\n",
      "10.1007/978-3-319-66926-7_35\n",
      "10.1504/IJASM.2016.079934\n",
      "10.1016/j.ifacol.2015.06.141\n",
      "10.1007/978-3-319-99707-0_17\n",
      "10.1109/IS.2018.8710517\n",
      "10.1115/GTINDIA2017-4603\n",
      "10.15530/urtec-2018-2902186\n",
      "10.1016/j.procir.2019.03.182\n",
      "10.1109/SYSOSE.2019.8753881\n",
      "10.1016/j.procir.2019.02.104\n",
      "10.1016/j.procir.2018.04.078\n",
      "10.1109/TII.2018.2804917\n",
      "10.1109/SysEng.2016.7753162\n",
      "10.1016/j.ifacol.2016.11.115\n",
      "10.2514/6.2017-1675\n",
      "10.2118/194590-ms\n",
      "10.4043/29606-ms\n",
      "10.1109/CSCloud/EdgeCom.2018.00018\n",
      "10.1145/3314493.3314504\n",
      "10.1109/WSC.2018.8632242\n",
      "10.4043/27638-ms\n",
      "10.4043/29005-ms\n",
      "10.18720/MPM.4022018_13\n",
      "10.1088/1742-6596/1168/2/022044\n",
      "10.1080/15732479.2019.1620789\n",
      "10.1109/GloSIC.2018.8570075\n",
      "10.1109/ICGEA.2018.8356292\n",
      "10.1109/SYSOSE.2019.8753845\n",
      "10.1109/SAS.2019.8706111\n",
      "10.1145/3284557.3284739\n",
      "10.1109/SBESC.2018.00030\n",
      "10.1109/BigData.2018.8622412\n",
      "10.1515/mspe-2019-0004\n",
      "10.1016/j.rcim.2019.101839\n",
      "10.1109/ROBIO.2017.8324685\n",
      "10.1016/j.procir.2018.03.166\n",
      "10.1016/j.procir.2017.12.168\n",
      "10.3390/machines7010002\n",
      "10.1016/j.eng.2019.01.014\n",
      "10.1080/00207543.2018.1443229\n",
      "10.1109/ACCESS.2017.2756069\n",
      "10.1007/978-3-030-04849-5_31\n",
      "10.1007/978-3-030-01818-4_14\n",
      "10.21278/idc.2018.0188\n",
      "10.1115/IMECE2018-88334\n",
      "10.2118/194088-ms\n",
      "10.18280/mmep.050405\n",
      "10.1115/OMAE2018-77915\n",
      "10.1016/j.procir.2016.11.152\n",
      "10.1016/j.aei.2018.11.003\n",
      "10.1109/ICPHYS.2018.8390796\n",
      "10.1016/j.promfg.2019.03.057\n",
      "10.1016/j.jmsy.2018.02.002\n",
      "10.1109/AERO.2019.8742228\n",
      "10.1109/AERO.2019.8741729\n",
      "10.1109/PC.2017.7976223\n",
      "10.1016/j.ifacol.2018.08.470\n",
      "10.1007/978-3-319-64352-6_29\n",
      "10.3991/ijoe.v15i09.10493\n",
      "10.1007/978-3-319-95678-7_67\n",
      "10.1007/978-3-030-05861-6_34\n",
      "10.1007/978-3-030-12075-7_30\n",
      "10.1109/ETFA.2017.8247583\n",
      "10.1007/978-3-319-94866-9_30\n",
      "10.1080/00207543.2018.1552032\n",
      "10.1115/IMECE2018-86645\n",
      "10.1109/IEA.2017.7939185\n",
      "10.1115/IMECE2017-70398\n",
      "10.1007/978-3-319-99707-0_48\n",
      "10.1016/j.procir.2017.03.309\n",
      "10.1016/j.procs.2017.09.003\n",
      "10.1145/3239092.3265957\n",
      "10.1007/978-3-030-23162-0_26\n",
      "10.1080/25726668.2019.1569367\n",
      "10.1109/ACCESS.2018.2890566\n",
      "10.1007/s00170-019-03794-z\n",
      "10.1007/978-981-13-2853-4_26\n",
      "10.1109/INDIN.2018.8471979\n",
      "10.1109/ICUFN.2017.7993933\n",
      "10.1109/ICTC.2018.8539690\n",
      "10.1007/978-3-030-04164-9_112\n",
      "10.1115/GT2018-76414\n",
      "10.1088/1757-899X/537/3/032009\n",
      "10.2514/6.2017-0863\n",
      "10.1007/978-3-030-11683-5_20\n",
      "10.1109/ACCESS.2017.2766453\n",
      "10.1007/978-3-319-65298-6_1\n",
      "10.1109/ICNSC.2018.8361283\n",
      "10.1007/s12652-018-1125-4\n",
      "10.1109/ICNSC.2018.8361272\n",
      "10.1109/ACCESS.2019.2891060\n",
      "10.1016/j.jclepro.2018.08.101\n",
      "10.1007/s12652-018-0911-3\n",
      "10.1088/1742-6596/1096/1/012071\n",
      "10.1080/00207543.2019.1607978\n",
      "10.1016/j.procir.2019.03.223\n",
      "10.1007/s00170-018-1617-6\n",
      "10.1109/ICIT.2018.8352419\n",
      "10.3390/pr7020094\n",
      "10.2514/6.2017-0875\n",
      "10.1109/ACCESS.2019.2950507\n"
     ]
    },
    {
     "name": "stdout",
     "output_type": "stream",
     "text": [
      "10.1145/3388176.3388209\n",
      "10.1109/SEAMS51251.2021.00029\n",
      "10.1108/JMTM-02-2018-0057\n",
      "10.1007/s40436-020-00302-5\n",
      "10.1016/j.cl.2018.08.002\n",
      "10.1007/978-3-319-51963-0_36\n",
      "10.1109/CoASE.2015.7294229\n",
      "10.1007/978-3-030-29193-8_5\n",
      "10.1016/j.infsof.2015.03.007\n",
      "10.1504/IJASM.2016.079934\n",
      "10.4271/2018-01-1928\n",
      "10.1016/j.jss.2022.111361\n",
      "10.1109/MODELS.2017.14\n",
      "10.5381/jot.2022.21.3.a10\n",
      "10.32604/cmes.2023.023154\n",
      "10.1109/JPROC.2020.2998530\n",
      "10.3390/app12115727\n",
      "Digital Twins as the Next Phase of Cyber-Physical Systems in Construction\n",
      "10.1080/00207543.2022.2101960\n",
      "10.3390/app122111203\n",
      "10.1109/JPROC.2020.2998530\n",
      "10.1016/j.compind.2019.103130\n",
      "10.1016/j.aei.2021.101297\n",
      "10.1016/j.compind.2020.103316\n",
      "10.1016/j.infsof.2022.107008\n",
      "10.1016/j.seta.2022.102837\n",
      "10.1016/j.cola.2020.101021\n",
      "10.1007/s10270-021-00908-8\n",
      "10.1016/j.infsof.2012.07.008\n",
      "10.1109/ACCESS.2021.3068358\n",
      "10.1109/COMST.2022.3208773\n",
      "Digital twin modeling\n",
      "Smart manufacturing: state-of-the-art review in context of conventional and modern manufacturing process modeling, monitoring and control\n",
      "Models@run.time: a guided tour of the state of the art and research\n",
      "challenges\n",
      "Models@ runtime and Internet of Things: A Systematic Literature Review\n",
      "10.1016/j.rcim.2021.102230\n",
      "10.1007/s00607-020-00841-6\n",
      "10.1109/JPROC.2020.3032444\n",
      "10.1145/3550356.3561550\n",
      "10.1515/auto-2022-0144\n",
      "10.1109/ETFA45728.2021.9613376\n",
      "10.1145/3550356.3561601\n",
      "10.1109/MODELS-C53483.2021.00120\n",
      "10.1109/SoSE59841.2023.10178517\n",
      "10.1109/MODELS50736.2021.00022\n",
      "10.1145/3550355.3552409\n",
      "10.1109/ICEPDS47235.2020.9249366\n",
      "10.1109/AIEA51086.2020.00067\n",
      "10.1145/3550356.3561606\n",
      "10.1016/j.ifacol.2021.08.158\n",
      "10.1109/ETFA45728.2021.9613172\n",
      "10.18420/modellierung2022-012\n",
      "10.1109/ETFA45728.2021.9613164\n",
      "10.1145/3531056.3542784\n",
      "10.1109/ACCESS.2022.3148708\n",
      "10.1109/IECON48115.2021.9589912\n",
      "10.1016/j.rcim.2023.102595\n",
      "10.1145/3365438.3410941\n",
      "10.1007/s10270-020-00851-0\n",
      "10.1007/978-3-031-19762-8_14\n",
      "10.1145/3387940.3392195\n",
      "10.1109/SYNASC57785.2022.00040\n",
      "10.1145/3550356.3561589\n",
      "10.1109/ICPS58381.2023.10128003\n",
      "10.3390/systems11030142\n",
      "10.1007/978-3-031-33080-3_14\n",
      "10.1007/978-3-030-27878-6_5\n",
      "10.1016/j.compind.2022.103631\n",
      "10.1145/3417990.3421438\n",
      "10.1007/978-3-030-62522-1_28\n",
      "10.1007/978-3-031-19762-8_5\n",
      "10.1109/DSInS54396.2021.9670612\n",
      "10.1145/3417990.3421446\n",
      "10.1145/3486609.3487210\n",
      "10.1145/3550356.3563135\n",
      "10.1109/MODELS-C53483.2021.00037\n",
      "10.1109/ICCAR55106.2022.9782651\n",
      "10.3390/fi15020050\n",
      "10.1109/MODELS-C59198.2023.00081\n",
      "10.1109/MODELS-C59198.2023.00083\n",
      "10.1145/3365438.3410952\n",
      "10.1186/s13677-024-00593-0\n",
      "10.1007/s10845-023-02212-2\n",
      "10.1109/IECON51785.2023.10312302\n",
      "10.1109/MS.2023.3319580\n",
      "10.1109/MODELS-C59198.2023.00077\n",
      "10.1109/INDIN51400.2023.10218306\n",
      "10.1002/spe.3311\n",
      "Modeling Urban Digital Twins over the Cloud-to-Thing Continuum\n",
      "10.1109/MODELS-C59198.2023.00079\n",
      "10.1016/j.procs.2023.10.307\n",
      "10.1109/ISCSIC60498.2023.00046\n",
      "10.1109/MODELS-C59198.2023.00080\n",
      "A Model-Driven Approach for Situational Intelligence & Operational Awareness\n",
      "CPSA\\(_\\mboxML\\): a language and code generation framework for\n",
      "digital twin based monitoring of mobile cyber-physical systems\n"
     ]
    }
   ],
   "source": [
    "index = 0\n",
    "data = []\n",
    "while index < len(docs_filtered):\n",
    "    # re.sub('[<\\[\\]>]', '', str(docs_filtered[index].authors))\n",
    "\n",
    "    authorList = []\n",
    "    for author in docs_filtered[index].authors or []:\n",
    "        authorList.append(author.name)\n",
    "\n",
    "    if type(docs_filtered[index].id.doi) == type(None):\n",
    "        print(docs_filtered[index].title)\n",
    "        doi_paper = ''\n",
    "        doi_paper_custom = ''\n",
    "        # print(doi_paper)\n",
    "    else:\n",
    "        doi_paper = str(docs_filtered[index].id.doi) # 'https://www.doi.org/' + \n",
    "        doi_paper_custom = 'https://www.doi.org/' + str(docs_filtered[index].id.doi)\n",
    "        print(doi_paper)\n",
    "\n",
    "    data.append({'Authors': '', 'Author full names': re.sub(r'[\\[\\'\\]]', '', str(authorList)), 'Author(s) ID': '', \n",
    "    'Title': docs_filtered[index].title, 'Year': docs_filtered[index].publication_year, 'Source title': docs_filtered[index].publication_source, \n",
    "    'Volume': '', 'Issue': '', 'Art. No.': '', 'Page start': '', 'Page end': '', 'Page count': '', 'Cited by': docs_filtered[index].citation_count, \n",
    "    'DOI': doi_paper, 'Link': doi_paper_custom,  'Affiliations': re.sub(r'[\\[\\'\\]]', '', str(docs_filtered[index].affiliations)), \n",
    "    'Authors with affiliations': '', 'Abstract': docs_filtered[index].abstract, 'Author Keywords': re.sub(r'[\\[\\'\\]]', '', str(docs_filtered[index].keywords)), \n",
    "    'Index Keywords': '', 'Molecular Sequence Numbers': '',  'Chemicals/CAS': '', 'Tradenames': '', 'Manufacturers': '', \n",
    "    'Funding Details': '', 'Funding Texts': '', 'References': re.sub(r'[\\[\\'\\]]', '', str(docs_filtered[index].references)), 'Correspondence Address': '', 'Editors': '', 'Publisher': docs_filtered[index].publisher, \n",
    "    'Sponsors': '', 'Conference name': '', 'Conference date': str(docs_filtered[index].publication_date), 'Conference location': '', 'Conference code': '', 'ISSN': '', \n",
    "    'ISBN': '', 'CODEN': '', 'PubMed ID': docs_filtered[index].id.pubmed, 'Language of Original Document': docs_filtered[index].language, 'Abbreviated Source Title': '', 'Document Type': docs_filtered[index].source_type, \n",
    "    'Publication Stage': '', 'Open Access': '', 'Source': '', 'EID': docs_filtered[index].id.scopusid})\n",
    "    \n",
    "    index += 1\n",
    "\n",
    "# Saving first group of data to a single excel file\n",
    "df = pd.DataFrame(data, columns=['Authors', 'Author full names', 'Author(s) ID', \n",
    "    'Title', 'Year', 'Source title', \n",
    "    'Volume', 'Issue', 'Art. No.', 'Page start', 'Page end', 'Page count', 'Cited by', \n",
    "    'DOI', 'Link',  'Affiliations', 'Authors with affiliations', 'Abstract', 'Author Keywords', \n",
    "    'Index Keywords', 'Molecular Sequence Numbers',  'Chemicals/CAS', 'Tradenames', 'Manufacturers', \n",
    "    'Funding Details', 'Funding Texts', 'References', 'Correspondence Address', 'Editors', 'Publisher', \n",
    "    'Sponsors', 'Conference name', 'Conference date', 'Conference location', 'Conference code', 'ISSN', \n",
    "    'ISBN', 'CODEN', 'PubMed ID', 'Language of Original Document', 'Abbreviated Source Title', 'Document Type', \n",
    "    'Publication Stage', 'Open Access', 'Source', 'EID'])\n",
    "\n",
    "# Saving first group of data to a single csv file\n",
    "df.to_csv('LUCA/' + filename + '.csv')\n",
    "\n",
    "# Saving first group of data to a single excel file\n",
    "df.to_excel('LUCA/' + filename_xlsx, index=False)"
   ]
  },
  {
   "cell_type": "code",
   "execution_count": 13,
   "id": "14be2fcd",
   "metadata": {},
   "outputs": [
    {
     "name": "stdout",
     "output_type": "stream",
     "text": [
      "      Frequency\n",
      "2012          1\n",
      "2013          0\n",
      "2014          0\n",
      "2015          3\n",
      "2016          6\n",
      "2017         47\n",
      "2018        138\n",
      "2019        113\n",
      "2020         25\n",
      "2021         28\n",
      "2022         40\n",
      "2023         33\n",
      "2024         18\n"
     ]
    },
    {
     "data": {
      "image/png": "[encoded data removed]",
      "text/plain": [
       "<Figure size 1000x600 with 1 Axes>"
      ]
     },
     "metadata": {},
     "output_type": "display_data"
    }
   ],
   "source": [
    "pdStatYear = litstudy.stats.compute_year_histogram(docs_filtered)\n",
    "print(pdStatYear)\n",
    "\n",
    "#plt.figure(1)\n",
    "litstudy.plot_year_histogram(docs_filtered, vertical=True);\n",
    "#plt.xticks(fontsize=12)\n",
    "#plt.yticks(fontsize=12)\n",
    "#plt.title('')\n",
    "plt.grid(True)\n",
    "plt.savefig('LUCA/Results/' + str(filename) + '_01_plot_year_histogram.png', dpi=300, bbox_inches='tight', format=\"PNG\")"
   ]
  },
  {
   "cell_type": "code",
   "execution_count": 14,
   "id": "81462bfc",
   "metadata": {},
   "outputs": [
    {
     "name": "stderr",
     "output_type": "stream",
     "text": [
      "100%|██████████| 452/452 [00:07<00:00, 62.76it/s]"
     ]
    },
    {
     "name": "stdout",
     "output_type": "stream",
     "text": [
      "446 papers found on Scopus\n",
      "6 papers were not found\n"
     ]
    },
    {
     "name": "stderr",
     "output_type": "stream",
     "text": [
      "\n"
     ]
    },
    {
     "data": {
      "text/plain": [
       "452"
      ]
     },
     "execution_count": 14,
     "metadata": {},
     "output_type": "execute_result"
    }
   ],
   "source": [
    "import logging\n",
    "logging.getLogger().setLevel(logging.CRITICAL)\n",
    "\n",
    "docs_found_scopus_total, docs_notfound_scopus_total = litstudy.refine_scopus(docs_bib, search_title=True)\n",
    "\n",
    "print(len(docs_found_scopus_total), 'papers found on Scopus')\n",
    "print(len(docs_notfound_scopus_total), 'papers were not found')\n",
    "docs_bib_scopus_total = docs_found_scopus_total | docs_notfound_scopus_total\n",
    "len(docs_bib_scopus_total)"
   ]
  },
  {
   "cell_type": "code",
   "execution_count": 43,
   "id": "d35dedb1",
   "metadata": {},
   "outputs": [
    {
     "name": "stdout",
     "output_type": "stream",
     "text": [
      "Title36=A comprehensive survey on digital twin for future networks and emerging Internet of Things industry\n",
      "10.1016/j.comnet.2024.110350\n",
      "Title58=A Review on Digital Twins and Its Application in the Modeling of Photovoltaic Installations\n",
      "10.3390/en17051227\n",
      "Title79=A Case Study for a Digital Twin of Body-in-White Production Systems General Concept for Automated Updating of Planning Projects in the Digital Factory\n",
      "10.1109/ETFA.2018.8502467\n",
      "Title97=Experimentable Digital Twins for a Modeling and Simulation-based Engineering Approach\n",
      "10.1109/SysEng.2018.8544383\n",
      "Title106=A digital twin for root cause analysis and product quality monitoring\n",
      "10.21278/idc.2018.0418\n",
      "Title163=Pervasive Computing Integrated Discrete Event Simulation for a Hospital Digital Twin\n",
      "10.1109/AICCSA.2018.8612796\n",
      "Title299=An approach for the implementation of the digital twin in the automotive wiring harness field\n",
      "10.21278/idc.2018.0188\n",
      "Title307=Development of an education program for digital manufacturing system engineers based on 'Digital Triplet' concept\n",
      "10.1016/j.promfg.2019.03.057\n",
      "Title351=Visualisation of the digital twin data in manufacturing by using augmented reality\n",
      "10.1016/j.procir.2019.03.223\n",
      "Title395=A novel methodology to construct digital twin models for spacecraft operations using fault and behaviour trees\n",
      "10.1145/3550356.3561550\n"
     ]
    }
   ],
   "source": [
    "# scopus bibtex file\n",
    "filename = 'DT_Framework_federated_title_keywords'\n",
    "filename_xlsx = 'DT_Framework_federated_title_keywords.xlsx' \n",
    "docs_filtered = docs_bib\n",
    "\n",
    "# Function to check if a line contains any of the specified words\n",
    "def contains_keywords(line, keywords):\n",
    "    return all(keyword in line for keyword in keywords)  # all() and any()\n",
    "\n",
    "# Extract Secondary Studies\n",
    "index = 0\n",
    "data = []\n",
    "\n",
    "# List of keywords to search for\n",
    "# keywords = [\"Digital Twin*\",\"systematic review\", \"systematic mapping\", \"challenge\", \"insight\", \"survey\", \"issue\", \"guideline\", \"study\", \"state of the art\"]\n",
    "# keywords2 = [\"challenge\", \"insight\", \"issue\", \"guideline\", \"state of the art\", \"lesson learned\"]\n",
    "\n",
    "# keywords = [\"continuous engineering\",\"Digital Twin*\",\"challenge\", \"insight\", \"issue\", \"guideline\", \"state of the art\", \"framework\", \"lesson learned\"]\n",
    "# keywords = [\"continuous integration\", \"continuous development\", \"continuous deployment\", \"Digital Twin*\"]\n",
    "keywords = [\"continuous\", \"Digital Twin\"]\n",
    "keywords2 = keywords\n",
    "keywords3 = keywords\n",
    "\n",
    "while index < len(docs_filtered):\n",
    "    # if contains_keywords(str(docs_filtered[index].title), keywords) or contains_keywords(str(docs_filtered[index].keywords2), keywords) or contains_keywords(str(docs_filtered[index].keywords), keywords3):\n",
    "    if contains_keywords(str(docs_filtered[index].title), keywords) or contains_keywords(str(docs_filtered[index].keywords), keywords2) or contains_keywords(str(docs_filtered[index].abstract), keywords3):    \n",
    "        print('Title'+str(index)+'='+str(docs_filtered[index].title))\n",
    "        \n",
    "        authorList = []\n",
    "        for author in docs_filtered[index].authors or []:\n",
    "            authorList.append(author.name)\n",
    "\n",
    "        if type(docs_filtered[index].id.doi) == type(None):\n",
    "            print(docs_filtered[index].title)\n",
    "            doi_paper = ''\n",
    "            doi_paper_custom = ''\n",
    "            # print(doi_paper)\n",
    "        else:\n",
    "            doi_paper = str(docs_filtered[index].id.doi) # 'https://www.doi.org/' + \n",
    "            doi_paper_custom = 'https://www.doi.org/' + str(docs_filtered[index].id.doi)\n",
    "            print(doi_paper)\n",
    "        \n",
    "        data.append({'Authors': '', 'Author full names': re.sub(r'[\\[\\'\\]]', '', str(authorList)), 'Author(s) ID': '', \n",
    "        'Title': docs_filtered[index].title, 'Year': docs_filtered[index].publication_year, 'Source title': docs_filtered[index].publication_source, \n",
    "        'Volume': '', 'Issue': '', 'Art. No.': '', 'Page start': '', 'Page end': '', 'Page count': '', 'Cited by': docs_filtered[index].citation_count, \n",
    "        'DOI': doi_paper, 'Link': doi_paper_custom,  'Affiliations': re.sub(r'[\\[\\'\\]]', '', str(docs_filtered[index].affiliations)), \n",
    "        'Authors with affiliations': '', 'Abstract': docs_filtered[index].abstract, 'Author Keywords': re.sub(r'[\\[\\'\\]]', '', str(docs_filtered[index].keywords)), \n",
    "        'Index Keywords': '', 'Molecular Sequence Numbers': '',  'Chemicals/CAS': '', 'Tradenames': '', 'Manufacturers': '', \n",
    "        'Funding Details': '', 'Funding Texts': '', 'References': re.sub(r'[\\[\\'\\]]', '', str(docs_filtered[index].references)), 'Correspondence Address': '', 'Editors': '', 'Publisher': docs_filtered[index].publisher, \n",
    "        'Sponsors': '', 'Conference name': '', 'Conference date': str(docs_filtered[index].publication_date), 'Conference location': '', 'Conference code': '', 'ISSN': '', \n",
    "        'ISBN': '', 'CODEN': '', 'PubMed ID': docs_filtered[index].id.pubmed, 'Language of Original Document': docs_filtered[index].language, 'Abbreviated Source Title': '', 'Document Type': docs_filtered[index].source_type, \n",
    "        'Publication Stage': '', 'Open Access': '', 'Source': '', 'EID': docs_filtered[index].id.scopusid})\n",
    "        #elif contains_keywords(str(docs_bib[index].keywords), keywords):\n",
    "        #    print('Title'+str(index)+'='+str(docs_bib[index].title))\n",
    "        #elif contains_keywords(str(docs_bib[index].abstract), keywords2):\n",
    "        #    print('Title'+str(index)+'='+str(docs_bib[index].title))\n",
    "    index += 1\n",
    "    \n",
    "# Saving first group of data to a single excel file\n",
    "df = pd.DataFrame(data, columns=['Authors', 'Author full names', 'Author(s) ID', \n",
    "    'Title', 'Year', 'Source title', \n",
    "    'Volume', 'Issue', 'Art. No.', 'Page start', 'Page end', 'Page count', 'Cited by', \n",
    "    'DOI', 'Link',  'Affiliations', 'Authors with affiliations', 'Abstract', 'Author Keywords', \n",
    "    'Index Keywords', 'Molecular Sequence Numbers',  'Chemicals/CAS', 'Tradenames', 'Manufacturers', \n",
    "    'Funding Details', 'Funding Texts', 'References', 'Correspondence Address', 'Editors', 'Publisher', \n",
    "    'Sponsors', 'Conference name', 'Conference date', 'Conference location', 'Conference code', 'ISSN', \n",
    "    'ISBN', 'CODEN', 'PubMed ID', 'Language of Original Document', 'Abbreviated Source Title', 'Document Type', \n",
    "    'Publication Stage', 'Open Access', 'Source', 'EID'])\n",
    "\n",
    "# Saving first group of data to a single csv file\n",
    "df.to_csv('LUCA/' + filename + '.csv')\n",
    "\n",
    "# Saving first group of data to a single excel file\n",
    "df.to_excel('LUCA/' + filename_xlsx, index=False)"
   ]
  },
  {
   "cell_type": "code",
   "execution_count": null,
   "id": "b315d97b",
   "metadata": {},
   "outputs": [],
   "source": []
  },
  {
   "cell_type": "code",
   "execution_count": null,
   "id": "575a53cc",
   "metadata": {},
   "outputs": [],
   "source": []
  }
 ],
 "metadata": {
  "kernelspec": {
   "display_name": "Python 3 (ipykernel)",
   "language": "python",
   "name": "python3"
  },
  "language_info": {
   "codemirror_mode": {
    "name": "ipython",
    "version": 3
   },
   "file_extension": ".py",
   "mimetype": "text/x-python",
   "name": "python",
   "nbconvert_exporter": "python",
   "pygments_lexer": "ipython3",
   "version": "3.9.19"
  }
 },
 "nbformat": 4,
 "nbformat_minor": 5
}
